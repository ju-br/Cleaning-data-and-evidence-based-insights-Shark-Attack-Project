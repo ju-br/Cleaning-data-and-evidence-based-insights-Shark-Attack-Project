{
 "cells": [
  {
   "cell_type": "markdown",
   "id": "313d54d1",
   "metadata": {},
   "source": [
    "# Project - Global Shark Attacks"
   ]
  },
  {
   "cell_type": "code",
   "execution_count": 1,
   "id": "6935cdb2",
   "metadata": {},
   "outputs": [],
   "source": [
    "#importing libraries\n",
    "import seaborn as sns\n",
    "import matplotlib.pyplot as plt\n",
    "import pandas as pd\n",
    "import numpy as np\n",
    "import re\n",
    "import plotly.express as px\n",
    "import plotly.graph_objects as go\n",
    "import os"
   ]
  },
  {
   "cell_type": "code",
   "execution_count": 2,
   "id": "a6e62591",
   "metadata": {},
   "outputs": [],
   "source": [
    "import src.analysis as analysis\n",
    "import src.cleaning as cleaning"
   ]
  },
  {
   "cell_type": "code",
   "execution_count": 3,
   "id": "05d3bffb",
   "metadata": {},
   "outputs": [
    {
     "ename": "AttributeError",
     "evalue": "module 'src.cleaning' has no attribute 'read_df'",
     "output_type": "error",
     "traceback": [
      "\u001b[0;31m---------------------------------------------------------------------------\u001b[0m",
      "\u001b[0;31mAttributeError\u001b[0m                            Traceback (most recent call last)",
      "Input \u001b[0;32mIn [3]\u001b[0m, in \u001b[0;36m<cell line: 1>\u001b[0;34m()\u001b[0m\n\u001b[0;32m----> 1\u001b[0m attacks \u001b[38;5;241m=\u001b[39m \u001b[43mcleaning\u001b[49m\u001b[38;5;241;43m.\u001b[39;49m\u001b[43mread_df\u001b[49m(\u001b[38;5;124m\"\u001b[39m\u001b[38;5;124moutput/attacks_updated.csv\u001b[39m\u001b[38;5;124m\"\u001b[39m)\n\u001b[1;32m      2\u001b[0m attacks\n",
      "\u001b[0;31mAttributeError\u001b[0m: module 'src.cleaning' has no attribute 'read_df'"
     ]
    }
   ],
   "source": [
    "attacks = analysis.read_df(\"output/attacks_updated.csv\")\n",
    "attacks"
   ]
  },
  {
   "cell_type": "markdown",
   "id": "3bb1cf20",
   "metadata": {},
   "source": [
    "## Importing and encoding the dataset"
   ]
  },
  {
   "cell_type": "code",
   "execution_count": null,
   "id": "3a13d434",
   "metadata": {},
   "outputs": [],
   "source": [
    "#loading the dataset\n",
    "attacks = pd.read_csv(\"./input/attacks.csv\",encoding='latin1')"
   ]
  },
  {
   "cell_type": "code",
   "execution_count": null,
   "id": "f34fac1c",
   "metadata": {},
   "outputs": [],
   "source": [
    "attacks"
   ]
  },
  {
   "cell_type": "markdown",
   "id": "96158810",
   "metadata": {},
   "source": [
    "## Exploring the dataset general info"
   ]
  },
  {
   "cell_type": "code",
   "execution_count": null,
   "id": "daa43c55",
   "metadata": {},
   "outputs": [],
   "source": [
    "attacks.shape"
   ]
  },
  {
   "cell_type": "markdown",
   "id": "1b023fa2",
   "metadata": {},
   "source": [
    "### Exploring the dataset missing values info\n"
   ]
  },
  {
   "cell_type": "code",
   "execution_count": null,
   "id": "f55b2af0",
   "metadata": {
    "scrolled": true
   },
   "outputs": [],
   "source": [
    "#checking missing values per column\n",
    "Nan_attacks= attacks.isna().sum()\n",
    "missing_value_attack = pd.DataFrame({'Feature': attacks.columns,\n",
    "                                 'Missing values': Nan_attacks})\n",
    "missing_value_attack"
   ]
  },
  {
   "cell_type": "code",
   "execution_count": null,
   "id": "b7b8f988",
   "metadata": {},
   "outputs": [],
   "source": [
    "#checking missing values percentages\n",
    "percent_missing = attacks.isnull().sum() * 100 / len(attacks)\n",
    "percent_missing\n",
    "Nan_attack_percentage = pd.DataFrame({'Feature': attacks.columns,\n",
    "                                 'Missing %': percent_missing})\n",
    "Nan_attack_percentage "
   ]
  },
  {
   "cell_type": "code",
   "execution_count": null,
   "id": "3e501746",
   "metadata": {},
   "outputs": [],
   "source": [
    "#checking the number of columns\n",
    "attacks.shape"
   ]
  },
  {
   "cell_type": "markdown",
   "id": "492b0e5a",
   "metadata": {},
   "source": [
    "###  Deleting ignorable missing values"
   ]
  },
  {
   "cell_type": "code",
   "execution_count": null,
   "id": "827ebb0d",
   "metadata": {},
   "outputs": [],
   "source": [
    "#poping missing values having age as reference\n",
    "attacks.dropna(subset=['Age'], inplace = True)"
   ]
  },
  {
   "cell_type": "code",
   "execution_count": null,
   "id": "f9198a12",
   "metadata": {},
   "outputs": [],
   "source": [
    "#dataframe updated after ignorable NaN deletion\n",
    "attacks.shape"
   ]
  },
  {
   "cell_type": "code",
   "execution_count": null,
   "id": "2a866793",
   "metadata": {},
   "outputs": [],
   "source": [
    "#checking updated missing values percentages after poping Unnamed:22 and :23\n",
    "percent_missing = attacks.isnull().sum() * 100 / len(attacks)\n",
    "percent_missing\n",
    "Nan_attack_percentage = pd.DataFrame({'Feature': attacks.columns,\n",
    "                                 'Missing %': percent_missing})\n",
    "Nan_attack_percentage "
   ]
  },
  {
   "cell_type": "code",
   "execution_count": null,
   "id": "e6fded7c",
   "metadata": {},
   "outputs": [],
   "source": [
    "#checking updated min, max and mean missing values percentages after poping Unnamed:22 and :23\n",
    "print(Nan_attack_percentage['Missing %'].mean())\n",
    "print(Nan_attack_percentage['Missing %'].max())\n",
    "print(Nan_attack_percentage['Missing %'].min())"
   ]
  },
  {
   "cell_type": "markdown",
   "id": "3e05c136",
   "metadata": {},
   "source": [
    "### Standardizing columns"
   ]
  },
  {
   "cell_type": "markdown",
   "id": "41eed085",
   "metadata": {},
   "source": [
    "#### Deleting columns with information that will not be used"
   ]
  },
  {
   "cell_type": "code",
   "execution_count": null,
   "id": "d2125817",
   "metadata": {},
   "outputs": [],
   "source": [
    "#evaluating columns\n",
    "attacks.columns"
   ]
  },
  {
   "cell_type": "code",
   "execution_count": null,
   "id": "47d4df73",
   "metadata": {},
   "outputs": [],
   "source": [
    "#deleting columns with info that will not be needed\n",
    "cleaning.pop_column(attacks)"
   ]
  },
  {
   "cell_type": "code",
   "execution_count": null,
   "id": "1db6cf36",
   "metadata": {
    "scrolled": true
   },
   "outputs": [],
   "source": [
    "#updating evaluating columns\n",
    "attacks.columns"
   ]
  },
  {
   "cell_type": "code",
   "execution_count": null,
   "id": "5616c4b4",
   "metadata": {},
   "outputs": [],
   "source": [
    "#check the shape\n",
    "attacks.shape"
   ]
  },
  {
   "cell_type": "markdown",
   "id": "3fe0691d",
   "metadata": {},
   "source": [
    "### Standardizing columns names "
   ]
  },
  {
   "cell_type": "code",
   "execution_count": null,
   "id": "2ce3337f",
   "metadata": {},
   "outputs": [],
   "source": [
    "cleaning.stand_colum_name(attacks)"
   ]
  },
  {
   "cell_type": "markdown",
   "id": "b9111150",
   "metadata": {},
   "source": [
    "### Exploring type and values"
   ]
  },
  {
   "cell_type": "code",
   "execution_count": null,
   "id": "ced30190",
   "metadata": {},
   "outputs": [],
   "source": [
    "#checking for duplicates\n",
    "attacks.duplicated().sum()"
   ]
  },
  {
   "cell_type": "code",
   "execution_count": null,
   "id": "828cf260",
   "metadata": {},
   "outputs": [],
   "source": [
    "#printing types and one example of case\n",
    "print(attacks.dtypes)\n",
    "print(attacks.iloc[0])"
   ]
  },
  {
   "cell_type": "markdown",
   "id": "102c52d3",
   "metadata": {},
   "source": [
    "### Cleaning variables"
   ]
  },
  {
   "cell_type": "markdown",
   "id": "b894f1a4",
   "metadata": {},
   "source": [
    "#### Date"
   ]
  },
  {
   "cell_type": "code",
   "execution_count": null,
   "id": "d6537834",
   "metadata": {},
   "outputs": [],
   "source": [
    "#explore data counts\n",
    "attacks[\"date\"].value_counts()"
   ]
  },
  {
   "cell_type": "code",
   "execution_count": null,
   "id": "bb2dc00b",
   "metadata": {
    "scrolled": true
   },
   "outputs": [],
   "source": [
    " list(attacks[\"date\"].unique())[:10]"
   ]
  },
  {
   "cell_type": "code",
   "execution_count": null,
   "id": "9fdf89b1",
   "metadata": {},
   "outputs": [],
   "source": [
    "#extract month from date\n",
    "attacks['date'] = attacks['date'].str.extract('(-\\D{3}-)', expand=True)"
   ]
  },
  {
   "cell_type": "code",
   "execution_count": null,
   "id": "eae462a5",
   "metadata": {},
   "outputs": [],
   "source": [
    "cleaning.regex_date_month(attacks)"
   ]
  },
  {
   "cell_type": "code",
   "execution_count": null,
   "id": "d45e9f7c",
   "metadata": {},
   "outputs": [],
   "source": [
    "#remove - as separator\n",
    "cleaning.regex_separator_month(attacks,'date')"
   ]
  },
  {
   "cell_type": "code",
   "execution_count": null,
   "id": "1d951f67",
   "metadata": {},
   "outputs": [],
   "source": [
    "#create column month\n",
    "attacks['month']=attacks['date']"
   ]
  },
  {
   "cell_type": "code",
   "execution_count": null,
   "id": "b95958c7",
   "metadata": {},
   "outputs": [],
   "source": [
    "#check unique values\n",
    "attacks[\"month\"].unique()"
   ]
  },
  {
   "cell_type": "code",
   "execution_count": null,
   "id": "07a84a6f",
   "metadata": {},
   "outputs": [],
   "source": [
    "#count months\n",
    "attacks[\"month\"].value_counts()"
   ]
  },
  {
   "cell_type": "code",
   "execution_count": null,
   "id": "57944318",
   "metadata": {},
   "outputs": [],
   "source": [
    "cleaning.plot_month(attacks)"
   ]
  },
  {
   "cell_type": "markdown",
   "id": "7a502b3c",
   "metadata": {},
   "source": [
    "#### Year"
   ]
  },
  {
   "cell_type": "code",
   "execution_count": null,
   "id": "4789ce7e",
   "metadata": {},
   "outputs": [],
   "source": [
    "#transforming year from float to integer\n",
    "attacks.dropna(subset=['year'], inplace = True)\n",
    "attacks.year = attacks.year.astype(int)"
   ]
  },
  {
   "cell_type": "code",
   "execution_count": null,
   "id": "aa11289f",
   "metadata": {},
   "outputs": [],
   "source": [
    "cleaning.plot_year(attacks, 'year')"
   ]
  },
  {
   "cell_type": "code",
   "execution_count": null,
   "id": "33f5cb59",
   "metadata": {},
   "outputs": [],
   "source": [
    "cleaning.plot_year_1850(attacks, 'year')"
   ]
  },
  {
   "cell_type": "code",
   "execution_count": null,
   "id": "616e815a",
   "metadata": {},
   "outputs": [],
   "source": [
    "#plotting in another way - year\n",
    "attacks = attacks.loc[attacks['year'] > 1850,:]\n",
    "fig, ax = plt.subplots(figsize=(80, 9))\n",
    "sns.countplot(ax=ax,x=attacks.year, )\n",
    "fig.savefig('figures/EDA/Year.png')"
   ]
  },
  {
   "cell_type": "code",
   "execution_count": null,
   "id": "804c0704",
   "metadata": {},
   "outputs": [],
   "source": []
  },
  {
   "cell_type": "markdown",
   "id": "520d70df",
   "metadata": {},
   "source": [
    "#### Sex"
   ]
  },
  {
   "cell_type": "code",
   "execution_count": null,
   "id": "ee70fcf0",
   "metadata": {},
   "outputs": [],
   "source": [
    "#count values to explore\n",
    "attacks[\"sex\"].value_counts()"
   ]
  },
  {
   "cell_type": "code",
   "execution_count": null,
   "id": "dadbd772",
   "metadata": {},
   "outputs": [],
   "source": [
    "#count unique values\n",
    "attacks[\"sex\"].unique()"
   ]
  },
  {
   "cell_type": "code",
   "execution_count": null,
   "id": "bd339e46",
   "metadata": {},
   "outputs": [],
   "source": [
    "#cleaning values\n",
    "attacks.loc[attacks['sex'].str.contains('M ', case=False, na=False), 'sex'] = 'M'\n",
    "attacks.drop(attacks[attacks[\"sex\"] == 'lli'].index, inplace=True)\n",
    "attacks.drop(attacks[attacks[\"sex\"] == 'nan'].index, inplace=True)"
   ]
  },
  {
   "cell_type": "code",
   "execution_count": null,
   "id": "5b46c64f",
   "metadata": {},
   "outputs": [],
   "source": [
    "attacks[\"sex\"].value_counts()"
   ]
  },
  {
   "cell_type": "code",
   "execution_count": null,
   "id": "b07f90d1",
   "metadata": {},
   "outputs": [],
   "source": [
    "#ploting gender count\n",
    "fig, ax = plt.subplots(figsize=(15, 8))\n",
    "sns.countplot(ax=ax,x=attacks.sex)\n",
    "fig.savefig('figures/EDA/Gender.png')"
   ]
  },
  {
   "cell_type": "code",
   "execution_count": null,
   "id": "b93ecb6c",
   "metadata": {},
   "outputs": [],
   "source": [
    "#creating a dummy variable\n",
    "attacks[\"sex_count\"]=attacks[\"sex\"].replace(['M', 'F'],[1, 0], inplace=False)"
   ]
  },
  {
   "cell_type": "code",
   "execution_count": null,
   "id": "ee655702",
   "metadata": {},
   "outputs": [],
   "source": [
    "attacks"
   ]
  },
  {
   "cell_type": "markdown",
   "id": "17e03d40",
   "metadata": {},
   "source": [
    "#### Age"
   ]
  },
  {
   "cell_type": "code",
   "execution_count": null,
   "id": "3e9f5d8c",
   "metadata": {},
   "outputs": [],
   "source": [
    "#count values to explore\n",
    "attacks[\"age\"].value_counts()"
   ]
  },
  {
   "cell_type": "code",
   "execution_count": null,
   "id": "652320b7",
   "metadata": {},
   "outputs": [],
   "source": [
    "#explore unique values\n",
    "list(attacks[\"age\"].unique())"
   ]
  },
  {
   "cell_type": "code",
   "execution_count": null,
   "id": "518bc07b",
   "metadata": {},
   "outputs": [],
   "source": [
    "#extract age\n",
    "attacks['age'] = attacks['age'].str.extract('(\\d{1,2})', expand=True)"
   ]
  },
  {
   "cell_type": "code",
   "execution_count": null,
   "id": "a0c8b494",
   "metadata": {},
   "outputs": [],
   "source": [
    "attacks[\"age\"].unique()\n"
   ]
  },
  {
   "cell_type": "code",
   "execution_count": null,
   "id": "3aa71df2",
   "metadata": {},
   "outputs": [],
   "source": [
    "#drop missing values\n",
    "attacks.dropna(subset=['age'], inplace = True)\n",
    "attacks.age = attacks.age.astype(int)"
   ]
  },
  {
   "cell_type": "code",
   "execution_count": null,
   "id": "b160598e",
   "metadata": {},
   "outputs": [],
   "source": [
    "#plot age\n",
    "fig, ax = plt.subplots(figsize=(12, 8))\n",
    "sns.histplot(ax=ax,x=attacks.age, bins=30)\n",
    "fig.savefig('figures/EDA/Age.png')"
   ]
  },
  {
   "cell_type": "code",
   "execution_count": null,
   "id": "1b0a7f1a",
   "metadata": {},
   "outputs": [],
   "source": [
    "attacks.groupby([\"age\", \"sex\"])[\"sex\"].count().plot(kind=\"bar\", color=[\"slategray\",\"coral\"])\n",
    "sns.set(rc={'figure.figsize': (20.,15.)})\n",
    "sns.set_style('whitegrid')"
   ]
  },
  {
   "cell_type": "markdown",
   "id": "5404d596",
   "metadata": {},
   "source": [
    "#### Country and hypotheses testing"
   ]
  },
  {
   "cell_type": "code",
   "execution_count": null,
   "id": "9db11a8e",
   "metadata": {},
   "outputs": [],
   "source": [
    "#count unique occurrences of countries\n",
    "set(attacks[\"country\"])"
   ]
  },
  {
   "cell_type": "code",
   "execution_count": null,
   "id": "69a0ae5f",
   "metadata": {},
   "outputs": [],
   "source": [
    "#new column hemisphere\n",
    "attacks['hemisphere']=attacks['country'].apply(lambda x: analysis.hemisphere(x))"
   ]
  },
  {
   "cell_type": "code",
   "execution_count": null,
   "id": "90a3f662",
   "metadata": {},
   "outputs": [],
   "source": [
    "#new column season per month and hemisphere\n",
    "attacks['season_hemisphere']=attacks.apply(lambda x: analysis.season_hemisphere(x['month'],x['hemisphere']),1)\n",
    "attacks"
   ]
  },
  {
   "cell_type": "code",
   "execution_count": null,
   "id": "e325e28f",
   "metadata": {
    "scrolled": true
   },
   "outputs": [],
   "source": [
    "analysis.hemisphere_count()"
   ]
  },
  {
   "cell_type": "code",
   "execution_count": null,
   "id": "2c4285e7",
   "metadata": {},
   "outputs": [],
   "source": [
    "analysis.plot_attacks_season()"
   ]
  },
  {
   "cell_type": "code",
   "execution_count": null,
   "id": "c6788d1c",
   "metadata": {},
   "outputs": [],
   "source": [
    "analysis.season_hemis_count()"
   ]
  },
  {
   "cell_type": "code",
   "execution_count": null,
   "id": "1bfc6598",
   "metadata": {},
   "outputs": [],
   "source": [
    "#save dataset updated\n",
    "attacks.to_csv('output/attacks_updated.csv',index=False)"
   ]
  },
  {
   "cell_type": "code",
   "execution_count": null,
   "id": "3283d82a",
   "metadata": {},
   "outputs": [],
   "source": []
  },
  {
   "cell_type": "code",
   "execution_count": null,
   "id": "836b2f57",
   "metadata": {},
   "outputs": [],
   "source": []
  }
 ],
 "metadata": {
  "kernelspec": {
   "display_name": "Python 3 (ipykernel)",
   "language": "python",
   "name": "python3"
  },
  "language_info": {
   "codemirror_mode": {
    "name": "ipython",
    "version": 3
   },
   "file_extension": ".py",
   "mimetype": "text/x-python",
   "name": "python",
   "nbconvert_exporter": "python",
   "pygments_lexer": "ipython3",
   "version": "3.8.13"
  }
 },
 "nbformat": 4,
 "nbformat_minor": 5
}
