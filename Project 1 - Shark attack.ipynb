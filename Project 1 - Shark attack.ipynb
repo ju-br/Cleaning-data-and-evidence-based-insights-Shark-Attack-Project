{
 "cells": [
  {
   "cell_type": "markdown",
   "id": "313d54d1",
   "metadata": {},
   "source": [
    "# Project - Global Shark Attacks"
   ]
  },
  {
   "cell_type": "code",
   "execution_count": 1,
   "id": "6935cdb2",
   "metadata": {},
   "outputs": [],
   "source": [
    "import seaborn as sns\n",
    "import matplotlib.pyplot as plt\n",
    "import pandas as pd\n",
    "import numpy as np\n",
    "import re\n",
    "import plotly.express as px\n",
    "import plotly.graph_objects as go\n",
    "import os"
   ]
  },
  {
   "cell_type": "markdown",
   "id": "3bb1cf20",
   "metadata": {},
   "source": [
    "## Importing and encoding the dataset"
   ]
  },
  {
   "cell_type": "code",
   "execution_count": 2,
   "id": "24c4e275",
   "metadata": {},
   "outputs": [
    {
     "data": {
      "text/plain": [
       "'/Users/Juliana/Desktop/Ironhack/Projects/Ironhack-Project'"
      ]
     },
     "execution_count": 2,
     "metadata": {},
     "output_type": "execute_result"
    }
   ],
   "source": [
    "pwd"
   ]
  },
  {
   "cell_type": "code",
   "execution_count": 3,
   "id": "3a13d434",
   "metadata": {},
   "outputs": [],
   "source": [
    "attacks = pd.read_csv(\"/Users/Juliana/Desktop/Ironhack/Projects/Ironhack-Project/input/attacks.csv\",encoding='latin1')"
   ]
  },
  {
   "cell_type": "code",
   "execution_count": 4,
   "id": "f34fac1c",
   "metadata": {},
   "outputs": [
    {
     "data": {
      "text/html": [
       "<div>\n",
       "<style scoped>\n",
       "    .dataframe tbody tr th:only-of-type {\n",
       "        vertical-align: middle;\n",
       "    }\n",
       "\n",
       "    .dataframe tbody tr th {\n",
       "        vertical-align: top;\n",
       "    }\n",
       "\n",
       "    .dataframe thead th {\n",
       "        text-align: right;\n",
       "    }\n",
       "</style>\n",
       "<table border=\"1\" class=\"dataframe\">\n",
       "  <thead>\n",
       "    <tr style=\"text-align: right;\">\n",
       "      <th></th>\n",
       "      <th>Case Number</th>\n",
       "      <th>Date</th>\n",
       "      <th>Year</th>\n",
       "      <th>Type</th>\n",
       "      <th>Country</th>\n",
       "      <th>Area</th>\n",
       "      <th>Location</th>\n",
       "      <th>Activity</th>\n",
       "      <th>Name</th>\n",
       "      <th>Sex</th>\n",
       "      <th>...</th>\n",
       "      <th>Species</th>\n",
       "      <th>Investigator or Source</th>\n",
       "      <th>pdf</th>\n",
       "      <th>href formula</th>\n",
       "      <th>href</th>\n",
       "      <th>Case Number.1</th>\n",
       "      <th>Case Number.2</th>\n",
       "      <th>original order</th>\n",
       "      <th>Unnamed: 22</th>\n",
       "      <th>Unnamed: 23</th>\n",
       "    </tr>\n",
       "  </thead>\n",
       "  <tbody>\n",
       "    <tr>\n",
       "      <th>0</th>\n",
       "      <td>2018.06.25</td>\n",
       "      <td>25-Jun-2018</td>\n",
       "      <td>2018.0</td>\n",
       "      <td>Boating</td>\n",
       "      <td>USA</td>\n",
       "      <td>California</td>\n",
       "      <td>Oceanside, San Diego County</td>\n",
       "      <td>Paddling</td>\n",
       "      <td>Julie Wolfe</td>\n",
       "      <td>F</td>\n",
       "      <td>...</td>\n",
       "      <td>White shark</td>\n",
       "      <td>R. Collier, GSAF</td>\n",
       "      <td>2018.06.25-Wolfe.pdf</td>\n",
       "      <td>http://sharkattackfile.net/spreadsheets/pdf_di...</td>\n",
       "      <td>http://sharkattackfile.net/spreadsheets/pdf_di...</td>\n",
       "      <td>2018.06.25</td>\n",
       "      <td>2018.06.25</td>\n",
       "      <td>6303.0</td>\n",
       "      <td>NaN</td>\n",
       "      <td>NaN</td>\n",
       "    </tr>\n",
       "    <tr>\n",
       "      <th>1</th>\n",
       "      <td>2018.06.18</td>\n",
       "      <td>18-Jun-2018</td>\n",
       "      <td>2018.0</td>\n",
       "      <td>Unprovoked</td>\n",
       "      <td>USA</td>\n",
       "      <td>Georgia</td>\n",
       "      <td>St. Simon Island, Glynn County</td>\n",
       "      <td>Standing</td>\n",
       "      <td>Adyson McNeely</td>\n",
       "      <td>F</td>\n",
       "      <td>...</td>\n",
       "      <td>NaN</td>\n",
       "      <td>K.McMurray, TrackingSharks.com</td>\n",
       "      <td>2018.06.18-McNeely.pdf</td>\n",
       "      <td>http://sharkattackfile.net/spreadsheets/pdf_di...</td>\n",
       "      <td>http://sharkattackfile.net/spreadsheets/pdf_di...</td>\n",
       "      <td>2018.06.18</td>\n",
       "      <td>2018.06.18</td>\n",
       "      <td>6302.0</td>\n",
       "      <td>NaN</td>\n",
       "      <td>NaN</td>\n",
       "    </tr>\n",
       "    <tr>\n",
       "      <th>2</th>\n",
       "      <td>2018.06.09</td>\n",
       "      <td>09-Jun-2018</td>\n",
       "      <td>2018.0</td>\n",
       "      <td>Invalid</td>\n",
       "      <td>USA</td>\n",
       "      <td>Hawaii</td>\n",
       "      <td>Habush, Oahu</td>\n",
       "      <td>Surfing</td>\n",
       "      <td>John Denges</td>\n",
       "      <td>M</td>\n",
       "      <td>...</td>\n",
       "      <td>NaN</td>\n",
       "      <td>K.McMurray, TrackingSharks.com</td>\n",
       "      <td>2018.06.09-Denges.pdf</td>\n",
       "      <td>http://sharkattackfile.net/spreadsheets/pdf_di...</td>\n",
       "      <td>http://sharkattackfile.net/spreadsheets/pdf_di...</td>\n",
       "      <td>2018.06.09</td>\n",
       "      <td>2018.06.09</td>\n",
       "      <td>6301.0</td>\n",
       "      <td>NaN</td>\n",
       "      <td>NaN</td>\n",
       "    </tr>\n",
       "    <tr>\n",
       "      <th>3</th>\n",
       "      <td>2018.06.08</td>\n",
       "      <td>08-Jun-2018</td>\n",
       "      <td>2018.0</td>\n",
       "      <td>Unprovoked</td>\n",
       "      <td>AUSTRALIA</td>\n",
       "      <td>New South Wales</td>\n",
       "      <td>Arrawarra Headland</td>\n",
       "      <td>Surfing</td>\n",
       "      <td>male</td>\n",
       "      <td>M</td>\n",
       "      <td>...</td>\n",
       "      <td>2 m shark</td>\n",
       "      <td>B. Myatt, GSAF</td>\n",
       "      <td>2018.06.08-Arrawarra.pdf</td>\n",
       "      <td>http://sharkattackfile.net/spreadsheets/pdf_di...</td>\n",
       "      <td>http://sharkattackfile.net/spreadsheets/pdf_di...</td>\n",
       "      <td>2018.06.08</td>\n",
       "      <td>2018.06.08</td>\n",
       "      <td>6300.0</td>\n",
       "      <td>NaN</td>\n",
       "      <td>NaN</td>\n",
       "    </tr>\n",
       "    <tr>\n",
       "      <th>4</th>\n",
       "      <td>2018.06.04</td>\n",
       "      <td>04-Jun-2018</td>\n",
       "      <td>2018.0</td>\n",
       "      <td>Provoked</td>\n",
       "      <td>MEXICO</td>\n",
       "      <td>Colima</td>\n",
       "      <td>La Ticla</td>\n",
       "      <td>Free diving</td>\n",
       "      <td>Gustavo Ramos</td>\n",
       "      <td>M</td>\n",
       "      <td>...</td>\n",
       "      <td>Tiger shark, 3m</td>\n",
       "      <td>A .Kipper</td>\n",
       "      <td>2018.06.04-Ramos.pdf</td>\n",
       "      <td>http://sharkattackfile.net/spreadsheets/pdf_di...</td>\n",
       "      <td>http://sharkattackfile.net/spreadsheets/pdf_di...</td>\n",
       "      <td>2018.06.04</td>\n",
       "      <td>2018.06.04</td>\n",
       "      <td>6299.0</td>\n",
       "      <td>NaN</td>\n",
       "      <td>NaN</td>\n",
       "    </tr>\n",
       "    <tr>\n",
       "      <th>...</th>\n",
       "      <td>...</td>\n",
       "      <td>...</td>\n",
       "      <td>...</td>\n",
       "      <td>...</td>\n",
       "      <td>...</td>\n",
       "      <td>...</td>\n",
       "      <td>...</td>\n",
       "      <td>...</td>\n",
       "      <td>...</td>\n",
       "      <td>...</td>\n",
       "      <td>...</td>\n",
       "      <td>...</td>\n",
       "      <td>...</td>\n",
       "      <td>...</td>\n",
       "      <td>...</td>\n",
       "      <td>...</td>\n",
       "      <td>...</td>\n",
       "      <td>...</td>\n",
       "      <td>...</td>\n",
       "      <td>...</td>\n",
       "      <td>...</td>\n",
       "    </tr>\n",
       "    <tr>\n",
       "      <th>25718</th>\n",
       "      <td>NaN</td>\n",
       "      <td>NaN</td>\n",
       "      <td>NaN</td>\n",
       "      <td>NaN</td>\n",
       "      <td>NaN</td>\n",
       "      <td>NaN</td>\n",
       "      <td>NaN</td>\n",
       "      <td>NaN</td>\n",
       "      <td>NaN</td>\n",
       "      <td>NaN</td>\n",
       "      <td>...</td>\n",
       "      <td>NaN</td>\n",
       "      <td>NaN</td>\n",
       "      <td>NaN</td>\n",
       "      <td>NaN</td>\n",
       "      <td>NaN</td>\n",
       "      <td>NaN</td>\n",
       "      <td>NaN</td>\n",
       "      <td>NaN</td>\n",
       "      <td>NaN</td>\n",
       "      <td>NaN</td>\n",
       "    </tr>\n",
       "    <tr>\n",
       "      <th>25719</th>\n",
       "      <td>NaN</td>\n",
       "      <td>NaN</td>\n",
       "      <td>NaN</td>\n",
       "      <td>NaN</td>\n",
       "      <td>NaN</td>\n",
       "      <td>NaN</td>\n",
       "      <td>NaN</td>\n",
       "      <td>NaN</td>\n",
       "      <td>NaN</td>\n",
       "      <td>NaN</td>\n",
       "      <td>...</td>\n",
       "      <td>NaN</td>\n",
       "      <td>NaN</td>\n",
       "      <td>NaN</td>\n",
       "      <td>NaN</td>\n",
       "      <td>NaN</td>\n",
       "      <td>NaN</td>\n",
       "      <td>NaN</td>\n",
       "      <td>NaN</td>\n",
       "      <td>NaN</td>\n",
       "      <td>NaN</td>\n",
       "    </tr>\n",
       "    <tr>\n",
       "      <th>25720</th>\n",
       "      <td>NaN</td>\n",
       "      <td>NaN</td>\n",
       "      <td>NaN</td>\n",
       "      <td>NaN</td>\n",
       "      <td>NaN</td>\n",
       "      <td>NaN</td>\n",
       "      <td>NaN</td>\n",
       "      <td>NaN</td>\n",
       "      <td>NaN</td>\n",
       "      <td>NaN</td>\n",
       "      <td>...</td>\n",
       "      <td>NaN</td>\n",
       "      <td>NaN</td>\n",
       "      <td>NaN</td>\n",
       "      <td>NaN</td>\n",
       "      <td>NaN</td>\n",
       "      <td>NaN</td>\n",
       "      <td>NaN</td>\n",
       "      <td>NaN</td>\n",
       "      <td>NaN</td>\n",
       "      <td>NaN</td>\n",
       "    </tr>\n",
       "    <tr>\n",
       "      <th>25721</th>\n",
       "      <td>NaN</td>\n",
       "      <td>NaN</td>\n",
       "      <td>NaN</td>\n",
       "      <td>NaN</td>\n",
       "      <td>NaN</td>\n",
       "      <td>NaN</td>\n",
       "      <td>NaN</td>\n",
       "      <td>NaN</td>\n",
       "      <td>NaN</td>\n",
       "      <td>NaN</td>\n",
       "      <td>...</td>\n",
       "      <td>NaN</td>\n",
       "      <td>NaN</td>\n",
       "      <td>NaN</td>\n",
       "      <td>NaN</td>\n",
       "      <td>NaN</td>\n",
       "      <td>NaN</td>\n",
       "      <td>NaN</td>\n",
       "      <td>NaN</td>\n",
       "      <td>NaN</td>\n",
       "      <td>NaN</td>\n",
       "    </tr>\n",
       "    <tr>\n",
       "      <th>25722</th>\n",
       "      <td>xx</td>\n",
       "      <td>NaN</td>\n",
       "      <td>NaN</td>\n",
       "      <td>NaN</td>\n",
       "      <td>NaN</td>\n",
       "      <td>NaN</td>\n",
       "      <td>NaN</td>\n",
       "      <td>NaN</td>\n",
       "      <td>NaN</td>\n",
       "      <td>NaN</td>\n",
       "      <td>...</td>\n",
       "      <td>NaN</td>\n",
       "      <td>NaN</td>\n",
       "      <td>NaN</td>\n",
       "      <td>NaN</td>\n",
       "      <td>NaN</td>\n",
       "      <td>NaN</td>\n",
       "      <td>NaN</td>\n",
       "      <td>NaN</td>\n",
       "      <td>NaN</td>\n",
       "      <td>NaN</td>\n",
       "    </tr>\n",
       "  </tbody>\n",
       "</table>\n",
       "<p>25723 rows × 24 columns</p>\n",
       "</div>"
      ],
      "text/plain": [
       "      Case Number         Date    Year        Type    Country  \\\n",
       "0      2018.06.25  25-Jun-2018  2018.0     Boating        USA   \n",
       "1      2018.06.18  18-Jun-2018  2018.0  Unprovoked        USA   \n",
       "2      2018.06.09  09-Jun-2018  2018.0     Invalid        USA   \n",
       "3      2018.06.08  08-Jun-2018  2018.0  Unprovoked  AUSTRALIA   \n",
       "4      2018.06.04  04-Jun-2018  2018.0    Provoked     MEXICO   \n",
       "...           ...          ...     ...         ...        ...   \n",
       "25718         NaN          NaN     NaN         NaN        NaN   \n",
       "25719         NaN          NaN     NaN         NaN        NaN   \n",
       "25720         NaN          NaN     NaN         NaN        NaN   \n",
       "25721         NaN          NaN     NaN         NaN        NaN   \n",
       "25722          xx          NaN     NaN         NaN        NaN   \n",
       "\n",
       "                  Area                        Location     Activity  \\\n",
       "0           California     Oceanside, San Diego County     Paddling   \n",
       "1              Georgia  St. Simon Island, Glynn County     Standing   \n",
       "2               Hawaii                    Habush, Oahu      Surfing   \n",
       "3      New South Wales              Arrawarra Headland      Surfing   \n",
       "4               Colima                        La Ticla  Free diving   \n",
       "...                ...                             ...          ...   \n",
       "25718              NaN                             NaN          NaN   \n",
       "25719              NaN                             NaN          NaN   \n",
       "25720              NaN                             NaN          NaN   \n",
       "25721              NaN                             NaN          NaN   \n",
       "25722              NaN                             NaN          NaN   \n",
       "\n",
       "                  Name Sex   ...         Species   \\\n",
       "0          Julie Wolfe    F  ...      White shark   \n",
       "1      Adyson McNeely     F  ...              NaN   \n",
       "2          John Denges    M  ...              NaN   \n",
       "3                 male    M  ...        2 m shark   \n",
       "4       Gustavo Ramos     M  ...  Tiger shark, 3m   \n",
       "...                ...  ...  ...              ...   \n",
       "25718              NaN  NaN  ...              NaN   \n",
       "25719              NaN  NaN  ...              NaN   \n",
       "25720              NaN  NaN  ...              NaN   \n",
       "25721              NaN  NaN  ...              NaN   \n",
       "25722              NaN  NaN  ...              NaN   \n",
       "\n",
       "               Investigator or Source                       pdf  \\\n",
       "0                    R. Collier, GSAF      2018.06.25-Wolfe.pdf   \n",
       "1      K.McMurray, TrackingSharks.com    2018.06.18-McNeely.pdf   \n",
       "2      K.McMurray, TrackingSharks.com     2018.06.09-Denges.pdf   \n",
       "3                      B. Myatt, GSAF  2018.06.08-Arrawarra.pdf   \n",
       "4                           A .Kipper      2018.06.04-Ramos.pdf   \n",
       "...                               ...                       ...   \n",
       "25718                             NaN                       NaN   \n",
       "25719                             NaN                       NaN   \n",
       "25720                             NaN                       NaN   \n",
       "25721                             NaN                       NaN   \n",
       "25722                             NaN                       NaN   \n",
       "\n",
       "                                            href formula  \\\n",
       "0      http://sharkattackfile.net/spreadsheets/pdf_di...   \n",
       "1      http://sharkattackfile.net/spreadsheets/pdf_di...   \n",
       "2      http://sharkattackfile.net/spreadsheets/pdf_di...   \n",
       "3      http://sharkattackfile.net/spreadsheets/pdf_di...   \n",
       "4      http://sharkattackfile.net/spreadsheets/pdf_di...   \n",
       "...                                                  ...   \n",
       "25718                                                NaN   \n",
       "25719                                                NaN   \n",
       "25720                                                NaN   \n",
       "25721                                                NaN   \n",
       "25722                                                NaN   \n",
       "\n",
       "                                                    href Case Number.1  \\\n",
       "0      http://sharkattackfile.net/spreadsheets/pdf_di...    2018.06.25   \n",
       "1      http://sharkattackfile.net/spreadsheets/pdf_di...    2018.06.18   \n",
       "2      http://sharkattackfile.net/spreadsheets/pdf_di...    2018.06.09   \n",
       "3      http://sharkattackfile.net/spreadsheets/pdf_di...    2018.06.08   \n",
       "4      http://sharkattackfile.net/spreadsheets/pdf_di...    2018.06.04   \n",
       "...                                                  ...           ...   \n",
       "25718                                                NaN           NaN   \n",
       "25719                                                NaN           NaN   \n",
       "25720                                                NaN           NaN   \n",
       "25721                                                NaN           NaN   \n",
       "25722                                                NaN           NaN   \n",
       "\n",
       "      Case Number.2 original order Unnamed: 22 Unnamed: 23  \n",
       "0        2018.06.25         6303.0         NaN         NaN  \n",
       "1        2018.06.18         6302.0         NaN         NaN  \n",
       "2        2018.06.09         6301.0         NaN         NaN  \n",
       "3        2018.06.08         6300.0         NaN         NaN  \n",
       "4        2018.06.04         6299.0         NaN         NaN  \n",
       "...             ...            ...         ...         ...  \n",
       "25718           NaN            NaN         NaN         NaN  \n",
       "25719           NaN            NaN         NaN         NaN  \n",
       "25720           NaN            NaN         NaN         NaN  \n",
       "25721           NaN            NaN         NaN         NaN  \n",
       "25722           NaN            NaN         NaN         NaN  \n",
       "\n",
       "[25723 rows x 24 columns]"
      ]
     },
     "execution_count": 4,
     "metadata": {},
     "output_type": "execute_result"
    }
   ],
   "source": [
    "attacks"
   ]
  },
  {
   "cell_type": "markdown",
   "id": "96158810",
   "metadata": {},
   "source": [
    "## Exploring the dataset general info"
   ]
  },
  {
   "cell_type": "code",
   "execution_count": 5,
   "id": "daa43c55",
   "metadata": {},
   "outputs": [
    {
     "data": {
      "text/plain": [
       "(25723, 24)"
      ]
     },
     "execution_count": 5,
     "metadata": {},
     "output_type": "execute_result"
    }
   ],
   "source": [
    "attacks.shape"
   ]
  },
  {
   "cell_type": "markdown",
   "id": "cc6ef7e5",
   "metadata": {},
   "source": [
    "### Exploring the dataset missing values info\n"
   ]
  },
  {
   "cell_type": "code",
   "execution_count": 6,
   "id": "f55b2af0",
   "metadata": {
    "scrolled": true
   },
   "outputs": [
    {
     "data": {
      "text/html": [
       "<div>\n",
       "<style scoped>\n",
       "    .dataframe tbody tr th:only-of-type {\n",
       "        vertical-align: middle;\n",
       "    }\n",
       "\n",
       "    .dataframe tbody tr th {\n",
       "        vertical-align: top;\n",
       "    }\n",
       "\n",
       "    .dataframe thead th {\n",
       "        text-align: right;\n",
       "    }\n",
       "</style>\n",
       "<table border=\"1\" class=\"dataframe\">\n",
       "  <thead>\n",
       "    <tr style=\"text-align: right;\">\n",
       "      <th></th>\n",
       "      <th>Feature</th>\n",
       "      <th>Missing values</th>\n",
       "    </tr>\n",
       "  </thead>\n",
       "  <tbody>\n",
       "    <tr>\n",
       "      <th>Case Number</th>\n",
       "      <td>Case Number</td>\n",
       "      <td>17021</td>\n",
       "    </tr>\n",
       "    <tr>\n",
       "      <th>Date</th>\n",
       "      <td>Date</td>\n",
       "      <td>19421</td>\n",
       "    </tr>\n",
       "    <tr>\n",
       "      <th>Year</th>\n",
       "      <td>Year</td>\n",
       "      <td>19423</td>\n",
       "    </tr>\n",
       "    <tr>\n",
       "      <th>Type</th>\n",
       "      <td>Type</td>\n",
       "      <td>19425</td>\n",
       "    </tr>\n",
       "    <tr>\n",
       "      <th>Country</th>\n",
       "      <td>Country</td>\n",
       "      <td>19471</td>\n",
       "    </tr>\n",
       "    <tr>\n",
       "      <th>Area</th>\n",
       "      <td>Area</td>\n",
       "      <td>19876</td>\n",
       "    </tr>\n",
       "    <tr>\n",
       "      <th>Location</th>\n",
       "      <td>Location</td>\n",
       "      <td>19961</td>\n",
       "    </tr>\n",
       "    <tr>\n",
       "      <th>Activity</th>\n",
       "      <td>Activity</td>\n",
       "      <td>19965</td>\n",
       "    </tr>\n",
       "    <tr>\n",
       "      <th>Name</th>\n",
       "      <td>Name</td>\n",
       "      <td>19631</td>\n",
       "    </tr>\n",
       "    <tr>\n",
       "      <th>Sex</th>\n",
       "      <td>Sex</td>\n",
       "      <td>19986</td>\n",
       "    </tr>\n",
       "    <tr>\n",
       "      <th>Age</th>\n",
       "      <td>Age</td>\n",
       "      <td>22252</td>\n",
       "    </tr>\n",
       "    <tr>\n",
       "      <th>Injury</th>\n",
       "      <td>Injury</td>\n",
       "      <td>19449</td>\n",
       "    </tr>\n",
       "    <tr>\n",
       "      <th>Fatal (Y/N)</th>\n",
       "      <td>Fatal (Y/N)</td>\n",
       "      <td>19960</td>\n",
       "    </tr>\n",
       "    <tr>\n",
       "      <th>Time</th>\n",
       "      <td>Time</td>\n",
       "      <td>22775</td>\n",
       "    </tr>\n",
       "    <tr>\n",
       "      <th>Species</th>\n",
       "      <td>Species</td>\n",
       "      <td>22259</td>\n",
       "    </tr>\n",
       "    <tr>\n",
       "      <th>Investigator or Source</th>\n",
       "      <td>Investigator or Source</td>\n",
       "      <td>19438</td>\n",
       "    </tr>\n",
       "    <tr>\n",
       "      <th>pdf</th>\n",
       "      <td>pdf</td>\n",
       "      <td>19421</td>\n",
       "    </tr>\n",
       "    <tr>\n",
       "      <th>href formula</th>\n",
       "      <td>href formula</td>\n",
       "      <td>19422</td>\n",
       "    </tr>\n",
       "    <tr>\n",
       "      <th>href</th>\n",
       "      <td>href</td>\n",
       "      <td>19421</td>\n",
       "    </tr>\n",
       "    <tr>\n",
       "      <th>Case Number.1</th>\n",
       "      <td>Case Number.1</td>\n",
       "      <td>19421</td>\n",
       "    </tr>\n",
       "    <tr>\n",
       "      <th>Case Number.2</th>\n",
       "      <td>Case Number.2</td>\n",
       "      <td>19421</td>\n",
       "    </tr>\n",
       "    <tr>\n",
       "      <th>original order</th>\n",
       "      <td>original order</td>\n",
       "      <td>19414</td>\n",
       "    </tr>\n",
       "    <tr>\n",
       "      <th>Unnamed: 22</th>\n",
       "      <td>Unnamed: 22</td>\n",
       "      <td>25722</td>\n",
       "    </tr>\n",
       "    <tr>\n",
       "      <th>Unnamed: 23</th>\n",
       "      <td>Unnamed: 23</td>\n",
       "      <td>25721</td>\n",
       "    </tr>\n",
       "  </tbody>\n",
       "</table>\n",
       "</div>"
      ],
      "text/plain": [
       "                                       Feature  Missing values\n",
       "Case Number                        Case Number           17021\n",
       "Date                                      Date           19421\n",
       "Year                                      Year           19423\n",
       "Type                                      Type           19425\n",
       "Country                                Country           19471\n",
       "Area                                      Area           19876\n",
       "Location                              Location           19961\n",
       "Activity                              Activity           19965\n",
       "Name                                      Name           19631\n",
       "Sex                                       Sex            19986\n",
       "Age                                        Age           22252\n",
       "Injury                                  Injury           19449\n",
       "Fatal (Y/N)                        Fatal (Y/N)           19960\n",
       "Time                                      Time           22775\n",
       "Species                               Species            22259\n",
       "Investigator or Source  Investigator or Source           19438\n",
       "pdf                                        pdf           19421\n",
       "href formula                      href formula           19422\n",
       "href                                      href           19421\n",
       "Case Number.1                    Case Number.1           19421\n",
       "Case Number.2                    Case Number.2           19421\n",
       "original order                  original order           19414\n",
       "Unnamed: 22                        Unnamed: 22           25722\n",
       "Unnamed: 23                        Unnamed: 23           25721"
      ]
     },
     "execution_count": 6,
     "metadata": {},
     "output_type": "execute_result"
    }
   ],
   "source": [
    "#checking missing values per column\n",
    "Nan_attacks= attacks.isna().sum()\n",
    "missing_value_attack = pd.DataFrame({'Feature': attacks.columns,\n",
    "                                 'Missing values': Nan_attacks})\n",
    "missing_value_attack"
   ]
  },
  {
   "cell_type": "code",
   "execution_count": 7,
   "id": "b7b8f988",
   "metadata": {},
   "outputs": [
    {
     "data": {
      "text/html": [
       "<div>\n",
       "<style scoped>\n",
       "    .dataframe tbody tr th:only-of-type {\n",
       "        vertical-align: middle;\n",
       "    }\n",
       "\n",
       "    .dataframe tbody tr th {\n",
       "        vertical-align: top;\n",
       "    }\n",
       "\n",
       "    .dataframe thead th {\n",
       "        text-align: right;\n",
       "    }\n",
       "</style>\n",
       "<table border=\"1\" class=\"dataframe\">\n",
       "  <thead>\n",
       "    <tr style=\"text-align: right;\">\n",
       "      <th></th>\n",
       "      <th>Feature</th>\n",
       "      <th>Missing %</th>\n",
       "    </tr>\n",
       "  </thead>\n",
       "  <tbody>\n",
       "    <tr>\n",
       "      <th>Case Number</th>\n",
       "      <td>Case Number</td>\n",
       "      <td>66.170353</td>\n",
       "    </tr>\n",
       "    <tr>\n",
       "      <th>Date</th>\n",
       "      <td>Date</td>\n",
       "      <td>75.500525</td>\n",
       "    </tr>\n",
       "    <tr>\n",
       "      <th>Year</th>\n",
       "      <td>Year</td>\n",
       "      <td>75.508300</td>\n",
       "    </tr>\n",
       "    <tr>\n",
       "      <th>Type</th>\n",
       "      <td>Type</td>\n",
       "      <td>75.516075</td>\n",
       "    </tr>\n",
       "    <tr>\n",
       "      <th>Country</th>\n",
       "      <td>Country</td>\n",
       "      <td>75.694903</td>\n",
       "    </tr>\n",
       "    <tr>\n",
       "      <th>Area</th>\n",
       "      <td>Area</td>\n",
       "      <td>77.269370</td>\n",
       "    </tr>\n",
       "    <tr>\n",
       "      <th>Location</th>\n",
       "      <td>Location</td>\n",
       "      <td>77.599813</td>\n",
       "    </tr>\n",
       "    <tr>\n",
       "      <th>Activity</th>\n",
       "      <td>Activity</td>\n",
       "      <td>77.615364</td>\n",
       "    </tr>\n",
       "    <tr>\n",
       "      <th>Name</th>\n",
       "      <td>Name</td>\n",
       "      <td>76.316915</td>\n",
       "    </tr>\n",
       "    <tr>\n",
       "      <th>Sex</th>\n",
       "      <td>Sex</td>\n",
       "      <td>77.697003</td>\n",
       "    </tr>\n",
       "    <tr>\n",
       "      <th>Age</th>\n",
       "      <td>Age</td>\n",
       "      <td>86.506240</td>\n",
       "    </tr>\n",
       "    <tr>\n",
       "      <th>Injury</th>\n",
       "      <td>Injury</td>\n",
       "      <td>75.609377</td>\n",
       "    </tr>\n",
       "    <tr>\n",
       "      <th>Fatal (Y/N)</th>\n",
       "      <td>Fatal (Y/N)</td>\n",
       "      <td>77.595926</td>\n",
       "    </tr>\n",
       "    <tr>\n",
       "      <th>Time</th>\n",
       "      <td>Time</td>\n",
       "      <td>88.539439</td>\n",
       "    </tr>\n",
       "    <tr>\n",
       "      <th>Species</th>\n",
       "      <td>Species</td>\n",
       "      <td>86.533453</td>\n",
       "    </tr>\n",
       "    <tr>\n",
       "      <th>Investigator or Source</th>\n",
       "      <td>Investigator or Source</td>\n",
       "      <td>75.566614</td>\n",
       "    </tr>\n",
       "    <tr>\n",
       "      <th>pdf</th>\n",
       "      <td>pdf</td>\n",
       "      <td>75.500525</td>\n",
       "    </tr>\n",
       "    <tr>\n",
       "      <th>href formula</th>\n",
       "      <td>href formula</td>\n",
       "      <td>75.504412</td>\n",
       "    </tr>\n",
       "    <tr>\n",
       "      <th>href</th>\n",
       "      <td>href</td>\n",
       "      <td>75.500525</td>\n",
       "    </tr>\n",
       "    <tr>\n",
       "      <th>Case Number.1</th>\n",
       "      <td>Case Number.1</td>\n",
       "      <td>75.500525</td>\n",
       "    </tr>\n",
       "    <tr>\n",
       "      <th>Case Number.2</th>\n",
       "      <td>Case Number.2</td>\n",
       "      <td>75.500525</td>\n",
       "    </tr>\n",
       "    <tr>\n",
       "      <th>original order</th>\n",
       "      <td>original order</td>\n",
       "      <td>75.473312</td>\n",
       "    </tr>\n",
       "    <tr>\n",
       "      <th>Unnamed: 22</th>\n",
       "      <td>Unnamed: 22</td>\n",
       "      <td>99.996112</td>\n",
       "    </tr>\n",
       "    <tr>\n",
       "      <th>Unnamed: 23</th>\n",
       "      <td>Unnamed: 23</td>\n",
       "      <td>99.992225</td>\n",
       "    </tr>\n",
       "  </tbody>\n",
       "</table>\n",
       "</div>"
      ],
      "text/plain": [
       "                                       Feature  Missing %\n",
       "Case Number                        Case Number  66.170353\n",
       "Date                                      Date  75.500525\n",
       "Year                                      Year  75.508300\n",
       "Type                                      Type  75.516075\n",
       "Country                                Country  75.694903\n",
       "Area                                      Area  77.269370\n",
       "Location                              Location  77.599813\n",
       "Activity                              Activity  77.615364\n",
       "Name                                      Name  76.316915\n",
       "Sex                                       Sex   77.697003\n",
       "Age                                        Age  86.506240\n",
       "Injury                                  Injury  75.609377\n",
       "Fatal (Y/N)                        Fatal (Y/N)  77.595926\n",
       "Time                                      Time  88.539439\n",
       "Species                               Species   86.533453\n",
       "Investigator or Source  Investigator or Source  75.566614\n",
       "pdf                                        pdf  75.500525\n",
       "href formula                      href formula  75.504412\n",
       "href                                      href  75.500525\n",
       "Case Number.1                    Case Number.1  75.500525\n",
       "Case Number.2                    Case Number.2  75.500525\n",
       "original order                  original order  75.473312\n",
       "Unnamed: 22                        Unnamed: 22  99.996112\n",
       "Unnamed: 23                        Unnamed: 23  99.992225"
      ]
     },
     "execution_count": 7,
     "metadata": {},
     "output_type": "execute_result"
    }
   ],
   "source": [
    "#checking missing values percentages\n",
    "percent_missing = attacks.isnull().sum() * 100 / len(attacks)\n",
    "percent_missing\n",
    "Nan_attack_percentage = pd.DataFrame({'Feature': attacks.columns,\n",
    "                                 'Missing %': percent_missing})\n",
    "Nan_attack_percentage "
   ]
  },
  {
   "cell_type": "code",
   "execution_count": 8,
   "id": "83fb9014",
   "metadata": {},
   "outputs": [
    {
     "data": {
      "text/plain": [
       "0        NaN\n",
       "1        NaN\n",
       "2        NaN\n",
       "3        NaN\n",
       "4        NaN\n",
       "        ... \n",
       "25718    NaN\n",
       "25719    NaN\n",
       "25720    NaN\n",
       "25721    NaN\n",
       "25722    NaN\n",
       "Name: Unnamed: 23, Length: 25723, dtype: object"
      ]
     },
     "execution_count": 8,
     "metadata": {},
     "output_type": "execute_result"
    }
   ],
   "source": [
    "#deleting columns with 100% missing values\n",
    "attacks.pop(\"Unnamed: 22\")\n",
    "attacks.pop(\"Unnamed: 23\")\n"
   ]
  },
  {
   "cell_type": "code",
   "execution_count": 9,
   "id": "3e501746",
   "metadata": {},
   "outputs": [
    {
     "data": {
      "text/plain": [
       "(25723, 22)"
      ]
     },
     "execution_count": 9,
     "metadata": {},
     "output_type": "execute_result"
    }
   ],
   "source": [
    "attacks.shape"
   ]
  },
  {
   "cell_type": "markdown",
   "id": "5f5bcf34",
   "metadata": {},
   "source": [
    "###  Deleting ignorable missing values"
   ]
  },
  {
   "cell_type": "code",
   "execution_count": 10,
   "id": "827ebb0d",
   "metadata": {},
   "outputs": [],
   "source": [
    "#poping missing values having age\n",
    "attacks.dropna(subset=['Age'], inplace = True)"
   ]
  },
  {
   "cell_type": "code",
   "execution_count": 11,
   "id": "f9198a12",
   "metadata": {},
   "outputs": [
    {
     "data": {
      "text/plain": [
       "(3471, 22)"
      ]
     },
     "execution_count": 11,
     "metadata": {},
     "output_type": "execute_result"
    }
   ],
   "source": [
    "#dataframe updated after ignorable NaN deletion\n",
    "attacks.shape"
   ]
  },
  {
   "cell_type": "code",
   "execution_count": 12,
   "id": "2a866793",
   "metadata": {},
   "outputs": [
    {
     "data": {
      "text/html": [
       "<div>\n",
       "<style scoped>\n",
       "    .dataframe tbody tr th:only-of-type {\n",
       "        vertical-align: middle;\n",
       "    }\n",
       "\n",
       "    .dataframe tbody tr th {\n",
       "        vertical-align: top;\n",
       "    }\n",
       "\n",
       "    .dataframe thead th {\n",
       "        text-align: right;\n",
       "    }\n",
       "</style>\n",
       "<table border=\"1\" class=\"dataframe\">\n",
       "  <thead>\n",
       "    <tr style=\"text-align: right;\">\n",
       "      <th></th>\n",
       "      <th>Feature</th>\n",
       "      <th>Missing %</th>\n",
       "    </tr>\n",
       "  </thead>\n",
       "  <tbody>\n",
       "    <tr>\n",
       "      <th>Case Number</th>\n",
       "      <td>Case Number</td>\n",
       "      <td>0.000000</td>\n",
       "    </tr>\n",
       "    <tr>\n",
       "      <th>Date</th>\n",
       "      <td>Date</td>\n",
       "      <td>0.000000</td>\n",
       "    </tr>\n",
       "    <tr>\n",
       "      <th>Year</th>\n",
       "      <td>Year</td>\n",
       "      <td>0.028810</td>\n",
       "    </tr>\n",
       "    <tr>\n",
       "      <th>Type</th>\n",
       "      <td>Type</td>\n",
       "      <td>0.028810</td>\n",
       "    </tr>\n",
       "    <tr>\n",
       "      <th>Country</th>\n",
       "      <td>Country</td>\n",
       "      <td>0.259291</td>\n",
       "    </tr>\n",
       "    <tr>\n",
       "      <th>Area</th>\n",
       "      <td>Area</td>\n",
       "      <td>3.399597</td>\n",
       "    </tr>\n",
       "    <tr>\n",
       "      <th>Location</th>\n",
       "      <td>Location</td>\n",
       "      <td>4.321521</td>\n",
       "    </tr>\n",
       "    <tr>\n",
       "      <th>Activity</th>\n",
       "      <td>Activity</td>\n",
       "      <td>4.091040</td>\n",
       "    </tr>\n",
       "    <tr>\n",
       "      <th>Name</th>\n",
       "      <td>Name</td>\n",
       "      <td>0.316912</td>\n",
       "    </tr>\n",
       "    <tr>\n",
       "      <th>Sex</th>\n",
       "      <td>Sex</td>\n",
       "      <td>1.094785</td>\n",
       "    </tr>\n",
       "    <tr>\n",
       "      <th>Age</th>\n",
       "      <td>Age</td>\n",
       "      <td>0.000000</td>\n",
       "    </tr>\n",
       "    <tr>\n",
       "      <th>Injury</th>\n",
       "      <td>Injury</td>\n",
       "      <td>0.144051</td>\n",
       "    </tr>\n",
       "    <tr>\n",
       "      <th>Fatal (Y/N)</th>\n",
       "      <td>Fatal (Y/N)</td>\n",
       "      <td>6.539902</td>\n",
       "    </tr>\n",
       "    <tr>\n",
       "      <th>Time</th>\n",
       "      <td>Time</td>\n",
       "      <td>32.123307</td>\n",
       "    </tr>\n",
       "    <tr>\n",
       "      <th>Species</th>\n",
       "      <td>Species</td>\n",
       "      <td>36.819360</td>\n",
       "    </tr>\n",
       "    <tr>\n",
       "      <th>Investigator or Source</th>\n",
       "      <td>Investigator or Source</td>\n",
       "      <td>0.172861</td>\n",
       "    </tr>\n",
       "    <tr>\n",
       "      <th>pdf</th>\n",
       "      <td>pdf</td>\n",
       "      <td>0.000000</td>\n",
       "    </tr>\n",
       "    <tr>\n",
       "      <th>href formula</th>\n",
       "      <td>href formula</td>\n",
       "      <td>0.028810</td>\n",
       "    </tr>\n",
       "    <tr>\n",
       "      <th>href</th>\n",
       "      <td>href</td>\n",
       "      <td>0.000000</td>\n",
       "    </tr>\n",
       "    <tr>\n",
       "      <th>Case Number.1</th>\n",
       "      <td>Case Number.1</td>\n",
       "      <td>0.000000</td>\n",
       "    </tr>\n",
       "    <tr>\n",
       "      <th>Case Number.2</th>\n",
       "      <td>Case Number.2</td>\n",
       "      <td>0.000000</td>\n",
       "    </tr>\n",
       "    <tr>\n",
       "      <th>original order</th>\n",
       "      <td>original order</td>\n",
       "      <td>0.000000</td>\n",
       "    </tr>\n",
       "  </tbody>\n",
       "</table>\n",
       "</div>"
      ],
      "text/plain": [
       "                                       Feature  Missing %\n",
       "Case Number                        Case Number   0.000000\n",
       "Date                                      Date   0.000000\n",
       "Year                                      Year   0.028810\n",
       "Type                                      Type   0.028810\n",
       "Country                                Country   0.259291\n",
       "Area                                      Area   3.399597\n",
       "Location                              Location   4.321521\n",
       "Activity                              Activity   4.091040\n",
       "Name                                      Name   0.316912\n",
       "Sex                                       Sex    1.094785\n",
       "Age                                        Age   0.000000\n",
       "Injury                                  Injury   0.144051\n",
       "Fatal (Y/N)                        Fatal (Y/N)   6.539902\n",
       "Time                                      Time  32.123307\n",
       "Species                               Species   36.819360\n",
       "Investigator or Source  Investigator or Source   0.172861\n",
       "pdf                                        pdf   0.000000\n",
       "href formula                      href formula   0.028810\n",
       "href                                      href   0.000000\n",
       "Case Number.1                    Case Number.1   0.000000\n",
       "Case Number.2                    Case Number.2   0.000000\n",
       "original order                  original order   0.000000"
      ]
     },
     "execution_count": 12,
     "metadata": {},
     "output_type": "execute_result"
    }
   ],
   "source": [
    "#checking updated missing values percentages after poping Unnamed:22 and :23\n",
    "percent_missing = attacks.isnull().sum() * 100 / len(attacks)\n",
    "percent_missing\n",
    "Nan_attack_percentage = pd.DataFrame({'Feature': attacks.columns,\n",
    "                                 'Missing %': percent_missing})\n",
    "Nan_attack_percentage "
   ]
  },
  {
   "cell_type": "code",
   "execution_count": 13,
   "id": "e6fded7c",
   "metadata": {},
   "outputs": [
    {
     "name": "stdout",
     "output_type": "stream",
     "text": [
      "4.062229904926534\n",
      "36.81936041486603\n",
      "0.0\n"
     ]
    }
   ],
   "source": [
    "#checking updated min, max and mean missing values percentages after poping Unnamed:22 and :23\n",
    "print(Nan_attack_percentage['Missing %'].mean())\n",
    "print(Nan_attack_percentage['Missing %'].max())\n",
    "print(Nan_attack_percentage['Missing %'].min())"
   ]
  },
  {
   "cell_type": "code",
   "execution_count": 14,
   "id": "28ac1d98",
   "metadata": {},
   "outputs": [],
   "source": [
    "#delete all rows with missing values\n",
    "#attacks = attacks.dropna(axis=0)\n",
    "#attacks.shape"
   ]
  },
  {
   "cell_type": "markdown",
   "id": "f8312270",
   "metadata": {},
   "source": [
    "### Standardizing columns"
   ]
  },
  {
   "cell_type": "markdown",
   "id": "3535634f",
   "metadata": {},
   "source": [
    "#### Deleting columns with information that will not be used"
   ]
  },
  {
   "cell_type": "code",
   "execution_count": 16,
   "id": "bb4f8b35",
   "metadata": {},
   "outputs": [
    {
     "data": {
      "text/plain": [
       "Index(['Case Number', 'Date', 'Year', 'Type', 'Country', 'Area', 'Location',\n",
       "       'Activity', 'Name', 'Sex ', 'Age', 'Injury', 'Fatal (Y/N)', 'Time',\n",
       "       'Species ', 'Investigator or Source', 'pdf', 'href formula', 'href',\n",
       "       'Case Number.1', 'Case Number.2', 'original order'],\n",
       "      dtype='object')"
      ]
     },
     "execution_count": 16,
     "metadata": {},
     "output_type": "execute_result"
    }
   ],
   "source": [
    "#evaluating columns\n",
    "attacks.columns"
   ]
  },
  {
   "cell_type": "code",
   "execution_count": 17,
   "id": "56e87352",
   "metadata": {},
   "outputs": [
    {
     "data": {
      "text/plain": [
       "0                  Julie Wolfe\n",
       "1              Adyson McNeely \n",
       "2                  John Denges\n",
       "6       Jose Ernesto da Silva \n",
       "7                         male\n",
       "                 ...          \n",
       "6243                      male\n",
       "6254                Sandrillio\n",
       "6265                      male\n",
       "6276                 a servant\n",
       "6301                      male\n",
       "Name: Name, Length: 3471, dtype: object"
      ]
     },
     "execution_count": 17,
     "metadata": {},
     "output_type": "execute_result"
    }
   ],
   "source": [
    "attacks.pop(\"Investigator or Source\")\n",
    "attacks.pop(\"pdf\")\n",
    "attacks.pop(\"href formula\")\n",
    "attacks.pop(\"href\")\n",
    "attacks.pop(\"original order\")\n",
    "attacks.pop(\"Case Number.1\")\n",
    "attacks.pop(\"Case Number.2\")\n",
    "attacks.pop(\"Case Number\")\n",
    "attacks.pop(\"Time\")\n",
    "attacks.pop(\"Name\")"
   ]
  },
  {
   "cell_type": "code",
   "execution_count": 18,
   "id": "1db6cf36",
   "metadata": {
    "scrolled": true
   },
   "outputs": [
    {
     "data": {
      "text/plain": [
       "Index(['Date', 'Year', 'Type', 'Country', 'Area', 'Location', 'Activity',\n",
       "       'Sex ', 'Age', 'Injury', 'Fatal (Y/N)', 'Species '],\n",
       "      dtype='object')"
      ]
     },
     "execution_count": 18,
     "metadata": {},
     "output_type": "execute_result"
    }
   ],
   "source": [
    "#udating evaluating columns\n",
    "attacks.columns"
   ]
  },
  {
   "cell_type": "code",
   "execution_count": 19,
   "id": "5616c4b4",
   "metadata": {},
   "outputs": [
    {
     "data": {
      "text/plain": [
       "(3471, 12)"
      ]
     },
     "execution_count": 19,
     "metadata": {},
     "output_type": "execute_result"
    }
   ],
   "source": [
    "attacks.shape"
   ]
  },
  {
   "cell_type": "markdown",
   "id": "47a48bba",
   "metadata": {},
   "source": [
    "### Standardizing columns names "
   ]
  },
  {
   "cell_type": "code",
   "execution_count": 20,
   "id": "51b3532c",
   "metadata": {},
   "outputs": [
    {
     "data": {
      "text/plain": [
       "Index(['date', 'year', 'type', 'country', 'area', 'location', 'activity',\n",
       "       'sex', 'age', 'injury', 'fatal (y/n)', 'species'],\n",
       "      dtype='object')"
      ]
     },
     "execution_count": 20,
     "metadata": {},
     "output_type": "execute_result"
    }
   ],
   "source": [
    "#Creating a dictionary and standardazing columns names\n",
    "dict_attacks_rename = {column : column.lower().strip() for column in attacks}\n",
    "attacks = attacks.rename(dict_attacks_rename, axis = 1)\n",
    "attacks.columns"
   ]
  },
  {
   "cell_type": "markdown",
   "id": "dcbe562d",
   "metadata": {},
   "source": [
    "### Exploring type and values"
   ]
  },
  {
   "cell_type": "code",
   "execution_count": 21,
   "id": "6c231b75",
   "metadata": {},
   "outputs": [
    {
     "data": {
      "text/plain": [
       "0"
      ]
     },
     "execution_count": 21,
     "metadata": {},
     "output_type": "execute_result"
    }
   ],
   "source": [
    "#checking for duplicates\n",
    "attacks.duplicated().sum()"
   ]
  },
  {
   "cell_type": "code",
   "execution_count": 22,
   "id": "828cf260",
   "metadata": {},
   "outputs": [
    {
     "name": "stdout",
     "output_type": "stream",
     "text": [
      "date            object\n",
      "year           float64\n",
      "type            object\n",
      "country         object\n",
      "area            object\n",
      "location        object\n",
      "activity        object\n",
      "sex             object\n",
      "age             object\n",
      "injury          object\n",
      "fatal (y/n)     object\n",
      "species         object\n",
      "dtype: object\n",
      "date                                                 25-Jun-2018\n",
      "year                                                      2018.0\n",
      "type                                                     Boating\n",
      "country                                                      USA\n",
      "area                                                  California\n",
      "location                             Oceanside, San Diego County\n",
      "activity                                                Paddling\n",
      "sex                                                            F\n",
      "age                                                           57\n",
      "injury         No injury to occupant, outrigger canoe and pad...\n",
      "fatal (y/n)                                                    N\n",
      "species                                              White shark\n",
      "Name: 0, dtype: object\n"
     ]
    }
   ],
   "source": [
    "#printing types and one example of case\n",
    "print(attacks.dtypes)\n",
    "print(attacks.iloc[0])"
   ]
  },
  {
   "cell_type": "markdown",
   "id": "74071289",
   "metadata": {},
   "source": [
    "#### Date"
   ]
  },
  {
   "cell_type": "code",
   "execution_count": 23,
   "id": "d6537834",
   "metadata": {},
   "outputs": [
    {
     "data": {
      "text/plain": [
       "12-Apr-2001     5\n",
       "15-Apr-2018     4\n",
       "05-Oct-2003     4\n",
       "23-Jan-1970     4\n",
       "1970s           4\n",
       "               ..\n",
       "22-Nov-2003     1\n",
       "12-Nov-2003     1\n",
       "12-Nov-2003     1\n",
       "27-Oct-2003     1\n",
       "1845-1853       1\n",
       "Name: date, Length: 3104, dtype: int64"
      ]
     },
     "execution_count": 23,
     "metadata": {},
     "output_type": "execute_result"
    }
   ],
   "source": [
    "attacks[\"date\"].value_counts()"
   ]
  },
  {
   "cell_type": "code",
   "execution_count": 24,
   "id": "bb2dc00b",
   "metadata": {},
   "outputs": [
    {
     "data": {
      "text/plain": [
       "['25-Jun-2018',\n",
       " '18-Jun-2018',\n",
       " '09-Jun-2018',\n",
       " '03-Jun-2018',\n",
       " '27-May-2018',\n",
       " '26-May-2018',\n",
       " '24-May-2018',\n",
       " '21-May-2018',\n",
       " '13-May-2018',\n",
       " 'May 2018',\n",
       " '28-Apr-2018',\n",
       " '25-Apr-2018',\n",
       " '23-Apr-2018',\n",
       " '22-Apr-2018',\n",
       " '19-Apr-2018',\n",
       " '15-Apr-2018',\n",
       " 'Reported 10-Apr-2018',\n",
       " '05-Apr-2018',\n",
       " '03-Apr-2018',\n",
       " '31-Mar-2018',\n",
       " '14-Mar-2018',\n",
       " '9-Mar-2018',\n",
       " '24-Feb-2018',\n",
       " '23-Feb-2018',\n",
       " '18-Feb-2018',\n",
       " '15-Feb-2018',\n",
       " '11-Feb-2018',\n",
       " '03-Feb-2018',\n",
       " '01-Feb-2018',\n",
       " '28-Jan-2018',\n",
       " '21-Jan-2018',\n",
       " '13-Jan-2018',\n",
       " '12-Jan-2018',\n",
       " '31-Dec-2017',\n",
       " '30-Dec-2017',\n",
       " '21-Dec-2017',\n",
       " '09-Dec-2017',\n",
       " '30-Nov-2017',\n",
       " '24-Nov-2017',\n",
       " '18-Nov-2017',\n",
       " 'Reported 13-Nov-2017',\n",
       " '13-Nov-2017',\n",
       " '04-Nov-2017',\n",
       " 'Reported 31-Oct-2017',\n",
       " '28-Oct-2017',\n",
       " '23-Oct-2017',\n",
       " '22-Oct-2017',\n",
       " '09-Oct-2017',\n",
       " '05-Oct-2017',\n",
       " '01-Oct-2017',\n",
       " '24-Sep-2017',\n",
       " '16-Sep-2017',\n",
       " '15-Sep-2017',\n",
       " '13-Sep-2017',\n",
       " '10-Sep-2017',\n",
       " '03-Sep-2017',\n",
       " '02-Sep-2017',\n",
       " '29-Aug-2017',\n",
       " '27-Aug-2017',\n",
       " '26-Aug-2017',\n",
       " '23-Aug-2017',\n",
       " '10-Aug-2017',\n",
       " '05-Aug-2017',\n",
       " '03-Aug-2017',\n",
       " '31-Jul-2017',\n",
       " '29-Jul-2017',\n",
       " '24-Jul-2017',\n",
       " '22-Jul-2017',\n",
       " '20-Jul-2017',\n",
       " '09-Jul-2017',\n",
       " 'Reported 07-Jul-2017',\n",
       " '07-Jul-2017',\n",
       " '21-Jun-2017',\n",
       " '18-Jun-2017',\n",
       " '17-Jun-2017',\n",
       " '11-Jun-2017',\n",
       " '10-Jun-2017',\n",
       " 'Reported 07-Jun-2017',\n",
       " '02-Jun-2017',\n",
       " '30-May-2017',\n",
       " '27-May-2017',\n",
       " '12-May-2017',\n",
       " 'Reported 06-May-2017',\n",
       " '05-May-2017',\n",
       " '03-May-2017',\n",
       " '29-Apr-2017',\n",
       " '27-Apr-2017',\n",
       " '22-Apr-2017',\n",
       " '17-Apr-2017',\n",
       " '14-Apr-2017',\n",
       " '13-Apr-2017',\n",
       " '12-Apr-2017',\n",
       " '11-Apr-2017',\n",
       " '10-Apr-2017',\n",
       " '06-Apr-2017',\n",
       " '05-Apr-2017',\n",
       " '02-Apr-2017',\n",
       " '27-Mar-2017',\n",
       " '19-Mar-2017',\n",
       " '11-Mar-2017',\n",
       " 'Reported 09-Mar-2017',\n",
       " '21-Feb-2017',\n",
       " '17-Feb-2017',\n",
       " '11-Feb-2017',\n",
       " '01-Feb-2017',\n",
       " '24-Jan-2017',\n",
       " '22-Jan-2017',\n",
       " '21-Jan-2017',\n",
       " '13-Jan-2017',\n",
       " '09-Jan-2017',\n",
       " 'Reported 08-Jan-2017',\n",
       " '05-Jan-2017',\n",
       " '03-Jan-2017',\n",
       " '27-Dec-2016',\n",
       " '19-Dec-2016',\n",
       " '14-Dec-2016',\n",
       " '11-Dec-2016',\n",
       " '06-Dec-2016',\n",
       " '01-Dec-2016',\n",
       " '28-Nov-2016',\n",
       " '14-Nov-2016',\n",
       " '30-Oct-2016',\n",
       " '29-Oct-2016',\n",
       " '24-Oct-2016',\n",
       " '21-Oct-2016',\n",
       " '14-Oct-2016',\n",
       " '12-Oct-2016',\n",
       " '10-Oct-2016',\n",
       " '02-Oct-2016',\n",
       " '01-Oct-2016',\n",
       " '26-Sep-2016',\n",
       " '18-Sep-2016',\n",
       " '17-Sep-2016',\n",
       " '11-Sep-2016',\n",
       " '07-Sep-2016',\n",
       " '06-Sep-2016',\n",
       " '05-Sep-2016',\n",
       " '04-Sep-2016',\n",
       " '01-Sep-2016',\n",
       " '29-Aug-2016',\n",
       " '27-Aug-2016',\n",
       " '25-Aug-2016',\n",
       " '07-Aug-2016',\n",
       " '06-Aug-2016',\n",
       " '04-Aug-2016',\n",
       " '29-Jul-2016',\n",
       " '28-Jul-2016',\n",
       " '27-Jul-2016',\n",
       " '26-Jul-2016',\n",
       " '24-Jul-2016',\n",
       " '23-Jul-2016',\n",
       " '20-Jul-2016',\n",
       " '16-Jul-2016',\n",
       " '15-Jul-2016',\n",
       " 'Reported 08-Jul-2016',\n",
       " '07-Jul-2016',\n",
       " '06-Jul-2016',\n",
       " '04-Jul-2016',\n",
       " '27-Jun-2016',\n",
       " '25-Jun-2016',\n",
       " '24-Jun-2016',\n",
       " '23-Jun-2016',\n",
       " '21-Jun-2016',\n",
       " '15-Jun-2016',\n",
       " '14-Jun-2016',\n",
       " '11-Jun-2016',\n",
       " '07-Jun-2016',\n",
       " '05-Jun-2016',\n",
       " '04-Jun-2016',\n",
       " '31-May-2016',\n",
       " '29-May-2016',\n",
       " '22-May-2016',\n",
       " '21-May-2016',\n",
       " '18-May-2016',\n",
       " '15-May-2016',\n",
       " '03-May-2016',\n",
       " '02-May-2016',\n",
       " '25-Apr-2016',\n",
       " '23-Apr-2016',\n",
       " '19-Apr-2016',\n",
       " '18-Apr-2016',\n",
       " '13-Apr-2016',\n",
       " '09-Apr-2016',\n",
       " '08-Apr-2016',\n",
       " '07-Apr-2016',\n",
       " '31-Mar-2016',\n",
       " '30-Mar-2016',\n",
       " '28-Mar-2016',\n",
       " '26-Mar-2016',\n",
       " '11-Mar-2016',\n",
       " '10-Mar-2016',\n",
       " '04-Mar-2016',\n",
       " '02-Mar-2016',\n",
       " '22-Feb-2016',\n",
       " ' 19-Feb-2016',\n",
       " 'Reported 10-Feb-2016',\n",
       " '05-Feb-2016',\n",
       " '04-Feb-2016',\n",
       " '02-Feb-2016',\n",
       " '25-Jan-2016',\n",
       " '23-Jan-2016',\n",
       " '05-Jan-2016',\n",
       " '02-Jan-2016',\n",
       " '25-Dec-2015',\n",
       " '22-Dec-2015',\n",
       " '21-Dec-2015',\n",
       " '19-Dec-2015',\n",
       " '11-Dec-2015',\n",
       " '08-Dec-2015',\n",
       " '20-Nov-2015',\n",
       " '15-Nov-2015',\n",
       " '10-Nov-2015',\n",
       " '07-Nov-2015',\n",
       " '03-Nov-2015',\n",
       " '01-Nov-2015',\n",
       " '30-Oct-2015',\n",
       " '28-Oct-2015',\n",
       " '25-Oct-2015',\n",
       " '21-Oct-2015',\n",
       " '19-Oct-2015',\n",
       " '17-Oct-2015',\n",
       " '09-Oct-2015',\n",
       " '07-Oct-2015',\n",
       " '05-Oct-2015',\n",
       " '04-Oct-2015',\n",
       " '29-Sep-2015',\n",
       " '26-Sep-2015',\n",
       " '20-Sep-2015',\n",
       " '17-Sep-2015',\n",
       " '08-Sep-2015',\n",
       " '06-Sep-2015',\n",
       " '05-Sep-2015',\n",
       " '04-Sep-2015',\n",
       " '01-Sep-2015',\n",
       " '29-Aug-2015',\n",
       " '22-Aug-2015',\n",
       " '20-Aug-2015',\n",
       " '19-Aug-2015',\n",
       " '18-Aug-2015',\n",
       " '10-Aug-2015',\n",
       " '31-Jul-2015',\n",
       " '28-Jul-2015',\n",
       " '27-Jul-2015',\n",
       " '26-Jul-2015',\n",
       " '25-Jul-2015',\n",
       " '23-Jul-2015',\n",
       " '22-Jul-2015',\n",
       " '19-Jul-2015',\n",
       " '10-Jul-2015',\n",
       " '08-Jul-2015',\n",
       " '04-Jul-2015',\n",
       " '03-Jul-2015',\n",
       " '02-Jul-2015',\n",
       " '01-Jul-2015',\n",
       " '30-Jun-2015',\n",
       " '27-Jun-2015',\n",
       " '26-Jun-2015',\n",
       " 'Reported 25-Jun-2015',\n",
       " '25-Jun-2015',\n",
       " '24-Jun-2015',\n",
       " '23-Jun-2015',\n",
       " '19-Jun-2015',\n",
       " '17-Jun-2015',\n",
       " '14-Jun-2015',\n",
       " '11-Jun-2015',\n",
       " '07-Jun-2015',\n",
       " '05-Jun-2015',\n",
       " '01-Jun-2015',\n",
       " '29-May-2015',\n",
       " '25-May-2015',\n",
       " '24-May-2015',\n",
       " '20-May2015',\n",
       " '15-May-2015',\n",
       " '09-May-2015',\n",
       " '02-May-2015',\n",
       " '29-Apr-2015',\n",
       " '26-Apr-2015',\n",
       " '25-Apr-2015',\n",
       " '13-Apr-2015',\n",
       " '12-Apr-2015',\n",
       " '03-Apr-2015',\n",
       " '29-Mar-2015',\n",
       " '31-Mar-2015',\n",
       " '26-Mar-2015',\n",
       " '21-Mar-2015',\n",
       " '18-Mar-2015',\n",
       " '16-Mar-2015',\n",
       " '10-Mar-2015',\n",
       " '07-Mar-2015',\n",
       " '14-Feb-2015',\n",
       " '09-Feb-2015',\n",
       " '08-Feb-2015',\n",
       " '30-Jan-2015',\n",
       " '27-Jan-2015',\n",
       " '23-Jan-2015',\n",
       " '16-Jan-2015',\n",
       " '08-Jan-2015',\n",
       " '06-Jan-2015',\n",
       " '03-Jan-2015',\n",
       " '01-Jan-2015',\n",
       " '29-Dec-2014',\n",
       " '28-Dec-2014',\n",
       " '15-Dec-2014',\n",
       " '29-Nov-2014',\n",
       " '20-Nov-2014',\n",
       " '16-Nov-2014',\n",
       " '13-Nov-2014',\n",
       " '08-Nov-2014',\n",
       " '31-Oct-2014',\n",
       " '29-Oct-2014',\n",
       " '17-Oct-2014',\n",
       " '14-Oct-2014',\n",
       " '05-Oct-2014',\n",
       " '07-Oct-2014',\n",
       " '02-Oct-2014',\n",
       " 'Reported 12-Sep-2014',\n",
       " '09-Sep-2014',\n",
       " '06-Sep-2014',\n",
       " '03-Sep-2014',\n",
       " '02-Sep-2014',\n",
       " 'Sep-2014',\n",
       " '31-Aug-2014',\n",
       " '29-Aug-2014',\n",
       " '28-Aug-2014',\n",
       " '27-Aug-2014',\n",
       " '16-Aug-2014',\n",
       " '10-Aug-2014',\n",
       " '09-Aug-2014',\n",
       " '08-Aug-2014',\n",
       " '06-Aug-2014',\n",
       " '05-Aug-2014',\n",
       " '02-Aug-2014',\n",
       " '01-Aug-2014',\n",
       " '27-Jul-2014',\n",
       " '22-Jul-2014',\n",
       " '21-Jul-2014',\n",
       " '16-Jul-2014',\n",
       " '14-Jul-2014',\n",
       " '13-Jul-2014',\n",
       " '9-Jul-2014',\n",
       " '3-Jul-2014',\n",
       " 'Reported 27-Jun-2014',\n",
       " '25-Jun-2014',\n",
       " '18-Jun-2014',\n",
       " '09-Jun-2014',\n",
       " '08-Jun-2014',\n",
       " '07-Jun-2014',\n",
       " '01-Jun-2014',\n",
       " '24-May-2014',\n",
       " '22-May-2014',\n",
       " '15-May-2014',\n",
       " '14-May-2014',\n",
       " '13-May2014',\n",
       " '11-May-2014',\n",
       " '06-May-2014',\n",
       " '01-May-2014',\n",
       " '22-Apr-2014',\n",
       " '15-Apr-2014',\n",
       " '04-Apr-2014',\n",
       " '03-Apr-2014',\n",
       " '29-Mar-2014',\n",
       " '22-Mar-2014',\n",
       " '21-Mar-2014',\n",
       " '18-Mar-2014',\n",
       " '02-Mar-2014',\n",
       " '20-Feb-2014',\n",
       " 'Reported 17-Feb-2014',\n",
       " '08-Feb-2014',\n",
       " '07-Feb-2014',\n",
       " '25-Jan-2014',\n",
       " '04-Jan-2014',\n",
       " '25-Dec-2013',\n",
       " '16-Dec-2013',\n",
       " '13-Dec-2013',\n",
       " '11-Dec-2013',\n",
       " '10-Dec-2013',\n",
       " '05-Dec-2013',\n",
       " '02-Dec-2013',\n",
       " '30-Nov-2013',\n",
       " '29-Nov2013',\n",
       " '23-Nov-2013',\n",
       " '22-Nov-2013',\n",
       " '10-Nov-2013',\n",
       " '07-Nov-2013',\n",
       " '31-Oct-2013',\n",
       " '28-Oct-2013',\n",
       " '26-Oct-2013',\n",
       " '24-Oct-2013',\n",
       " '23-Oct-2013',\n",
       " '20-Oct-2013',\n",
       " '19-Oct-2013',\n",
       " '11-Oct-2013',\n",
       " '08-Oct-2013',\n",
       " '06-Oct-2013',\n",
       " '10-Oct-2013',\n",
       " '29-Sep-2013',\n",
       " ' 25-Sep-2013',\n",
       " ' 21-Sep-2013',\n",
       " ' 14-Sep-2013',\n",
       " ' 12-Sep-2013',\n",
       " ' 07-Sep-2013',\n",
       " ' 02-Sep-2013',\n",
       " ' 01-Sep-2013',\n",
       " '29-Aug-2013',\n",
       " '26-Aug-2013',\n",
       " ' 25-Aug-2013',\n",
       " ' 18-Aug-2013',\n",
       " ' 14-Aug-2013',\n",
       " ' 13-Aug-2013',\n",
       " '11-Aug-2013',\n",
       " ' 05-Aug-2013',\n",
       " '  31-Jul-2013',\n",
       " '  30-Jul-2013',\n",
       " '28-Jul-2013',\n",
       " '  29-Jul-2013',\n",
       " '    22-Jul-2013',\n",
       " '19-Jul-2013',\n",
       " 'Reported 17-Jul-2013',\n",
       " '15-Jul-2013',\n",
       " '14-Jul-2013',\n",
       " '11-Jul-2013',\n",
       " '07-Jul-2013',\n",
       " '02-Jul-2013',\n",
       " '27-Jun-2013',\n",
       " '25-Jun-2013',\n",
       " '18-Jun-2013',\n",
       " '17-Jun-2013',\n",
       " 'Reported 14-Jun-2013',\n",
       " '06-Jun-2013',\n",
       " '27-May-2013',\n",
       " '23-May-2013',\n",
       " '08-May-2013',\n",
       " '04-May-2013',\n",
       " '24-Apr-2013',\n",
       " '21-Apr-2013',\n",
       " '17-Apr-2013',\n",
       " '13-Apr-2013',\n",
       " '10-Apr-2013',\n",
       " '04-Apr-2013',\n",
       " 'Reported 02-Apr-2013',\n",
       " '02-Apr-2013',\n",
       " '31-Mar-2013',\n",
       " '29-Mar-2013',\n",
       " '21-Mar-2013',\n",
       " '16-Mar-2013',\n",
       " '12-Mar-2013',\n",
       " '10-Mar-2013',\n",
       " '03-Mar-2013',\n",
       " '27-Feb-2013',\n",
       " '10-Feb-2013',\n",
       " '09-Feb-2013',\n",
       " '01-Feb-2013',\n",
       " 'Reported 21-Jan-2013',\n",
       " '16-Jan-2013',\n",
       " '05-Jan-2013',\n",
       " '30-Dec-2012',\n",
       " '28-Dec-2012',\n",
       " '25-Dec-2012',\n",
       " '19-Dec-2012',\n",
       " '05-Dec-2012',\n",
       " '02-Dec-2012',\n",
       " 'December 2012',\n",
       " '30-Nov-2012',\n",
       " '27-Nov-2012',\n",
       " '22-Nov-2012',\n",
       " '19-Nov-2012',\n",
       " '04-Nov-2012',\n",
       " '30-Oct-2012',\n",
       " '27-Oct-2012',\n",
       " '23-Oct-2012',\n",
       " '19-Oct-2012',\n",
       " '18-Oct-2012',\n",
       " 'Reported 11-Oct-2012',\n",
       " '10-Oct-2012',\n",
       " '02-Oct-2012',\n",
       " '25-Sep-2012',\n",
       " '24-Sep-2012',\n",
       " '16-Sep-2012',\n",
       " '10-Sep-2012',\n",
       " '09-Sep-2012',\n",
       " '08-Sep-2012',\n",
       " '06-Sep-2012',\n",
       " '04-Sep-2012',\n",
       " '02-Sep-2012',\n",
       " '31-Aug-2012',\n",
       " '28-Aug-2012',\n",
       " '26-Aug-2012',\n",
       " '15-Aug-2012',\n",
       " '08-Aug-2012',\n",
       " '06-Aug-2012',\n",
       " '31-Jul-2012',\n",
       " '30-Jul-2012',\n",
       " '24-Jul-2012',\n",
       " '23-Jul-2012',\n",
       " '21-Jul-2012',\n",
       " '19-Jul-2012',\n",
       " '14-Jul-2012',\n",
       " '08-Jul-2012',\n",
       " '07-Jul-2012',\n",
       " '06-Jul-2012',\n",
       " 'Reported 28-Jun-2012',\n",
       " '26-Jun-2012',\n",
       " '22-Jun-2012',\n",
       " '20-Jun-2012',\n",
       " '19-Jun-2012',\n",
       " '18-Jun-2012',\n",
       " '15-Jun-2012',\n",
       " '14-Jun-2012',\n",
       " '12-Jun-2012',\n",
       " '10-Jun-2012',\n",
       " '03-Jun-2012',\n",
       " '02-Jun-2012',\n",
       " '31-May-2012',\n",
       " '29-May-2012',\n",
       " '23-May-2012',\n",
       " '16-May-2012',\n",
       " '12-May-2012',\n",
       " '09-May-2012',\n",
       " '06-May-2012',\n",
       " '19-Apr-2012',\n",
       " '11-Apr-2012',\n",
       " '03-Apr-2012',\n",
       " '31-Mar-2012',\n",
       " '24-Mar-2012',\n",
       " '20-Mar-2012',\n",
       " '15-Mar-2012',\n",
       " '14-Mar-2012',\n",
       " '06-Mar-2012',\n",
       " '05-Mar-2012',\n",
       " '04-Mar-2012',\n",
       " '03-Mar-2012',\n",
       " '06-Feb-2012',\n",
       " '19-Jan-2012',\n",
       " '18-Jan-2012',\n",
       " '15-Jan-2012',\n",
       " '13-Jan-2012',\n",
       " '03-Jan-2012',\n",
       " '02-Jan-2012',\n",
       " '25-Dec-2011',\n",
       " '23-Dec-2011',\n",
       " '21-Dec-2011',\n",
       " '11-Dec-2011',\n",
       " '07-Dec-2011',\n",
       " '02-Dec-2011',\n",
       " '29-Nov-2011',\n",
       " '28-Nov-2011',\n",
       " '12-Nov-2011',\n",
       " '11-Nov-2011',\n",
       " '  29-Oct-2011',\n",
       " 'Reported 28-Oct-2011',\n",
       " '22-Oct-2011',\n",
       " '20-Oct-2011',\n",
       " '19-Oct-2011',\n",
       " '09-Oct-2011',\n",
       " '05-Oct-2011',\n",
       " '01-Oct-2011',\n",
       " '30-Sep-2011',\n",
       " '28-Sep-2011',\n",
       " '24-Sep-2011',\n",
       " '19-Sep-2011',\n",
       " '17-Sep-2011',\n",
       " '16-Sep-2011',\n",
       " '11-Sep-2011',\n",
       " '04-Sep-2011',\n",
       " '02-Sep-2011',\n",
       " '31-Aug-2011',\n",
       " '28-Aug-2011',\n",
       " '24-Aug-2011 ',\n",
       " '23-Aug-2011',\n",
       " '18-Aug-2011',\n",
       " '17-Aug-2011',\n",
       " '16-Aug-2011',\n",
       " '16-Aug--2011',\n",
       " '15-Aug-2011',\n",
       " '11-Aug--2011',\n",
       " '01-Aug-2011',\n",
       " '31-Jul-2011',\n",
       " '30-Jul-2011',\n",
       " '22-Jul-2011',\n",
       " '19-Jul-2011',\n",
       " '13-Jul-2011',\n",
       " '07-Jul-2011',\n",
       " '06-Jul-2011',\n",
       " '05-Jul-2011',\n",
       " '30-Jun-2011',\n",
       " '29-Jun-2011',\n",
       " '28-Jun-2011',\n",
       " '26-Jun-2008',\n",
       " '21-Jun-2011',\n",
       " '19-Jun-2011',\n",
       " '15-Jun-2011',\n",
       " '12-Jun-2011',\n",
       " 'Reported 06-Jun-2011',\n",
       " '06-Jun-2011',\n",
       " '30-May-2011',\n",
       " '29-May-2011',\n",
       " '21-May-2011',\n",
       " '13-May-2011',\n",
       " 'Reported 07-May-2011',\n",
       " '04-May-2011',\n",
       " '26-Apr-2011',\n",
       " '23-Apr-2011',\n",
       " '22-Apr-2011',\n",
       " '16-Apr-2011',\n",
       " '08-Apr-2011',\n",
       " '23-Mar-2011',\n",
       " '21-Mar-2011',\n",
       " '16-Mar-2011',\n",
       " 'Reported 28-Feb-2011',\n",
       " '23-Feb-2011',\n",
       " '18-Feb-2011',\n",
       " '17-Feb-2011',\n",
       " '12-Feb-2011',\n",
       " '02-Feb-2011',\n",
       " '31-Jan-2011',\n",
       " '28-Jan-2011',\n",
       " '26-Jan-2011',\n",
       " '20-Jan-2011',\n",
       " '15-Jan-2011',\n",
       " 'Reported 12-Jan 2011',\n",
       " '26-Dec-2010',\n",
       " '11-Dec-2010',\n",
       " '05-Dec-2010',\n",
       " '01-Dec-2010',\n",
       " '30-Nov-2010',\n",
       " 'Reported 27-Nov-2010',\n",
       " '19-Nov-2010',\n",
       " '15-Nov-2010',\n",
       " '30-Oct-2010',\n",
       " '23-Oct-2010',\n",
       " '22-Oct-2010',\n",
       " '09-Oct-2010',\n",
       " '01-Oct-2010',\n",
       " '27-Sep-2010',\n",
       " '24-Sep-2010',\n",
       " '21-Sep-2010',\n",
       " ' 13-Sep-2010',\n",
       " '07-Sep-2010',\n",
       " 'Reported 06-Sep-2010',\n",
       " '03-Sep-2010',\n",
       " '02-Sep-2010',\n",
       " '29-Aug-2010',\n",
       " '18-Aug-2010',\n",
       " '17-Aug-2010',\n",
       " '14-Aug-2010',\n",
       " '10-Aug-2010',\n",
       " '08-Aug-2010',\n",
       " '07-Aug-2010',\n",
       " '02-Aug-2010',\n",
       " '25-Jul-2010',\n",
       " '23-Jul-2010',\n",
       " '19-Jul-2010',\n",
       " '17-Jul-2010',\n",
       " '16-Jul-2010',\n",
       " '04-Jul-2010',\n",
       " '03-Jul-2010',\n",
       " '02-Jul-2010',\n",
       " '27-Jun-2010',\n",
       " '25-Jun-2010',\n",
       " '15-Jun-2010',\n",
       " '10-Jun-2010',\n",
       " '06-Jun-2010',\n",
       " 'Jun-2010',\n",
       " '30-May-2010',\n",
       " '18-May-2010',\n",
       " '03-May-2010',\n",
       " '01-May-2010',\n",
       " '28-Apr-2010',\n",
       " '19-Apr-2010',\n",
       " '13-Apr-2010',\n",
       " '04-Apr-2010',\n",
       " ' 27-Mar-2010',\n",
       " '15-Feb-2010',\n",
       " '13-Feb-2010',\n",
       " '11-Feb-2010',\n",
       " '06-Feb-2010',\n",
       " '04-Feb-2010',\n",
       " '03-Feb-2010',\n",
       " '01-Feb-2010',\n",
       " '31-Jan-2010',\n",
       " '22-Jan-2010',\n",
       " '12-Jan-2010',\n",
       " '09-Jan-2010',\n",
       " '06-Jan-2010',\n",
       " '29-Dec-2009',\n",
       " '26-Dec-2009',\n",
       " '22-Dec-2009',\n",
       " '20-Dec-2009',\n",
       " '18-Dec-2009',\n",
       " '16-Dec-2009',\n",
       " '13-Dec-2009',\n",
       " '05-Dec-2009',\n",
       " '25-Nov-2009',\n",
       " '24-Nov-2009',\n",
       " '16-Nov-2009',\n",
       " '13-Nov-2009',\n",
       " '11-Nov-2009',\n",
       " '08-Nov-2009',\n",
       " '05-Nov-2009',\n",
       " '30-Oct-2009',\n",
       " '28-Oct-2009',\n",
       " '19-Oct-2009',\n",
       " '18-Oct-2009',\n",
       " '17-Oct-2009',\n",
       " 'Reported 14-Oct-2009',\n",
       " '02-Oct-2009',\n",
       " '13-Sep-2009',\n",
       " '12-Sep-2009',\n",
       " '07-Sep-2009',\n",
       " '29-Aug-2009',\n",
       " '25-Aug-2009',\n",
       " '10-Aug-2009',\n",
       " '01-Aug-2009',\n",
       " '31-July-2009',\n",
       " '30-Jul-2009',\n",
       " '29-Jul-2009',\n",
       " '24-Jul-2009',\n",
       " '22-Jul-2009',\n",
       " '18-Jul-2009',\n",
       " '07-Jul-2009',\n",
       " '05-Jul-2009',\n",
       " '04-Jul-2009',\n",
       " '27-Jun-2009',\n",
       " '21-Jun-2009',\n",
       " '16-Jun-2009',\n",
       " '01-Jun-2009',\n",
       " '31-May-2009',\n",
       " '17-May-2009',\n",
       " '16-May-2009',\n",
       " '12-May-2009',\n",
       " '06-Mar-2009',\n",
       " '21-Apr-2009',\n",
       " '20-Apr-2009',\n",
       " '19-Apr-2009',\n",
       " '17-Apr-2009',\n",
       " '11-Apr-2009',\n",
       " '12-Apr-2009',\n",
       " '06-Apr-2009',\n",
       " '03-Apr-2009',\n",
       " '27-Mar-2009',\n",
       " '21-Mar-2009',\n",
       " '20-Mar-2009',\n",
       " '18-Mar-2009',\n",
       " '17-Mar-2009',\n",
       " 'Reported 16-Mar-2009',\n",
       " '02-Mar-2009',\n",
       " '01-Mar-2009',\n",
       " '12-Feb-2009',\n",
       " '11-Feb-2009',\n",
       " '07-Feb-2009',\n",
       " 'Reported 27-Jan-2009',\n",
       " 'Reported 26-Jan-2009',\n",
       " '25-Jan-2009',\n",
       " '24-Jan-2009',\n",
       " '23-Jan-2009',\n",
       " '12-Jan-2009',\n",
       " '11-Jan-2009',\n",
       " '10-Jan-2009',\n",
       " '06-Jan-2009',\n",
       " '27-Dec-2008',\n",
       " '10-Dec-2008',\n",
       " '09-Nov-2008',\n",
       " '06-Nov-2008',\n",
       " '22-Oct-2008',\n",
       " '21-Oct-2008',\n",
       " '12-Oct-2008',\n",
       " '11-Oct-2008',\n",
       " '08-Oct-2008',\n",
       " '06-Oct-2008',\n",
       " '28-Sep-2008',\n",
       " '15-Sep-2008',\n",
       " '14-Sep-2008',\n",
       " '09-Sep-2008',\n",
       " '07-Sep-2008',\n",
       " '06-Sep-2008',\n",
       " '01-Sep-2008',\n",
       " '30-Aug-2008',\n",
       " '28-Aug-2008',\n",
       " '27-Aug-2008',\n",
       " '24-Aug-2008',\n",
       " '20-Aug-2008',\n",
       " '18-Aug-2008',\n",
       " '16-Aug-2008',\n",
       " '12-Aug-2008',\n",
       " '30-Jul-2008',\n",
       " '26-Jul-2008',\n",
       " '25-Jul-2008',\n",
       " '24-Jul-2008',\n",
       " '23-Jul-2008',\n",
       " '19-Jul-2008',\n",
       " '13-Jul-2008',\n",
       " '11-Jul-2008',\n",
       " '09-Jul-2008',\n",
       " '05-Jul-2008',\n",
       " 'Late Jul-2008',\n",
       " '28-Jun-2008',\n",
       " '21-Jun-2008',\n",
       " '20-Jun-2008',\n",
       " '11-Jun-2008',\n",
       " '07-Jun-2008',\n",
       " '01-Jun-2008',\n",
       " '26-May-2008',\n",
       " '24-May-2008',\n",
       " '23-May-2008',\n",
       " '14-May-2008',\n",
       " '10-May-2008',\n",
       " '07-May-2008',\n",
       " '01-May-2008',\n",
       " '28-Apr-2008',\n",
       " '27-Apr-2008',\n",
       " '26-Apr-2008',\n",
       " '25-Apr-2008',\n",
       " '20-Apr-2008',\n",
       " '18-Apr-2008',\n",
       " '17-Apr-2008',\n",
       " '15-Apr-2008',\n",
       " '25-Mar-2008',\n",
       " '08-Apr-2008',\n",
       " '03-Apr-2008',\n",
       " '28-Mar-2008',\n",
       " '23-Mar-2008',\n",
       " '21-Mar-2008',\n",
       " '15-Mar-2008',\n",
       " '07-Mar-2008',\n",
       " '24-Feb-2008',\n",
       " 'Reported 21-Feb-2008',\n",
       " '15-Feb-2008',\n",
       " '07-Feb-2008',\n",
       " '29-Jan-2008',\n",
       " '27-Jan-2008',\n",
       " '10-Jan-2008',\n",
       " 'Summer-2008',\n",
       " '21-Dec-2007',\n",
       " '19-Dec-2007',\n",
       " '18-Dec-2007',\n",
       " '15-Dec-2007',\n",
       " '14-Dec-2007',\n",
       " '10-Dec-2007',\n",
       " '07-Dec-2007',\n",
       " '18-Nov-2007',\n",
       " '07-Nov-2007',\n",
       " '06-Nov-2007',\n",
       " '04-Nov-2007',\n",
       " '03-Nov-2007',\n",
       " '29-Oct-2007',\n",
       " '15-Oct-2007',\n",
       " '13-Oct-2007',\n",
       " '07-Oct-2007',\n",
       " '06-Oct-2007',\n",
       " '30-Sep-2007',\n",
       " '28-Sep-2007',\n",
       " '27-Sep-2007',\n",
       " '20-Sep-2007',\n",
       " '16-Sep-2007',\n",
       " '13-Sep-2007',\n",
       " '08-Sep-2007',\n",
       " '05-Sep-2007',\n",
       " '04-Sep-2007',\n",
       " '03-Sep-2007',\n",
       " '28-Aug-2007',\n",
       " '26-Aug-2007',\n",
       " '25-Aug-2007',\n",
       " '19-Aug-2007',\n",
       " '15-Aug-2007',\n",
       " '12-Aug-2007',\n",
       " '11-Aug-2007',\n",
       " '09-Aug-2007',\n",
       " '07-Aug-2007',\n",
       " '29-Jul-2007',\n",
       " '28-Jul-2007',\n",
       " '19-Jul-2007.b',\n",
       " '19-Jul-2007.a',\n",
       " '18-Jul-2007',\n",
       " '17-Jul-2007',\n",
       " '10-Jul-2007',\n",
       " '05-Jul-2007',\n",
       " '04-Jul-2007',\n",
       " '25-Jun-2007',\n",
       " '17-Jun-2007',\n",
       " '24-May-2007',\n",
       " 'Reported 17-May-2007',\n",
       " '16-May-2007',\n",
       " '12-May-2007',\n",
       " '10-May-2007',\n",
       " '08-May-2007',\n",
       " '07-May-2007',\n",
       " 'May-2007',\n",
       " '26-Apr-2007',\n",
       " '22-Apr-2007',\n",
       " '20-Apr-2007',\n",
       " '09-Apr-2007',\n",
       " '01-Apr-2007',\n",
       " '31-Mar-2007',\n",
       " '21-Mar-2007',\n",
       " '20-Mar-2007',\n",
       " '12-Mar-2007',\n",
       " '11-Mar-2007',\n",
       " 'Reported 05-Mar-2007',\n",
       " '04-Feb-2007',\n",
       " '03-Feb-2007',\n",
       " '25-Jan-2007',\n",
       " '23-Jan-2007',\n",
       " '19-Jan-2007',\n",
       " '14-Jan-2007',\n",
       " '07-Jan-2007',\n",
       " '01-Jan-2007',\n",
       " '18-Dec-2006',\n",
       " '11-Dec-2006',\n",
       " '10-Dec-2006',\n",
       " '06-Dec-2006',\n",
       " '02-Dec-2006',\n",
       " '11-Nov-2006',\n",
       " '31-Oct-2006',\n",
       " '16-Oct-2006',\n",
       " '10-Oct-2006',\n",
       " '05-Oct-2006',\n",
       " 'Oct-2006',\n",
       " '30-Sep-2006',\n",
       " '29-Sep-2006',\n",
       " '16-Sep-2006',\n",
       " '14-Sep-2006',\n",
       " '11-Sep-2006',\n",
       " '04-Sep-2006',\n",
       " '03-Sep-2006',\n",
       " '02-Sep-2006',\n",
       " '29-Aug-2006',\n",
       " '27-Aug-2006',\n",
       " '22-Aug-2006',\n",
       " '20-Aug-2006',\n",
       " '13-Aug-2006',\n",
       " 'Aug-2006',\n",
       " '31-Jul-2006',\n",
       " '29-Jul-2006',\n",
       " '28-Jul-2006',\n",
       " '25-Jul-2006',\n",
       " '17-Jul-2006',\n",
       " '13-Jul-2006',\n",
       " '12-Jul-2006',\n",
       " '09-Jul-2006',\n",
       " '09-Jul-2006.',\n",
       " '08-Jul-2006',\n",
       " 'July 2006',\n",
       " '27-Jun-2006',\n",
       " '24-Jun-2006',\n",
       " '20-Jun-2006',\n",
       " '18-Jun-2006',\n",
       " '17-Jun-2006',\n",
       " '15-Jun-2006',\n",
       " '07-Jun-2006',\n",
       " '05-Jun-2006',\n",
       " '31-May-2006',\n",
       " '27-May-2006',\n",
       " '24-May-2006',\n",
       " '21-May-2006',\n",
       " '19-May-2006',\n",
       " '04-May-2006',\n",
       " '02-May-2006',\n",
       " '21-Apr-2006',\n",
       " '19-Apr-2006',\n",
       " '13-Apr-2006',\n",
       " '11-Apr-2006',\n",
       " '09-Apr-2006',\n",
       " '03-Apr-2006',\n",
       " '23-Mar-2006',\n",
       " '22-Mar-2006',\n",
       " '18-Mar-2006',\n",
       " '15-Mar-2006',\n",
       " '27-Feb-2006',\n",
       " '23-Feb-2006',\n",
       " '13-Feb-2006',\n",
       " '08-Feb-2006',\n",
       " '01-Feb-2006',\n",
       " 'Reported 28-Jan-2006',\n",
       " '25-Jan-2006',\n",
       " '23-Jan-2006',\n",
       " '15-Jan-2006',\n",
       " '07-Jan-2006',\n",
       " '04-Jan-2006',\n",
       " '01-Jan-2006',\n",
       " '24-Dec-2005',\n",
       " '21-Dec-2005',\n",
       " '11-Dec-2005',\n",
       " 'Reported 29-Nov-2005',\n",
       " '27-Nov-2005',\n",
       " '25-Nov-2005',\n",
       " '21-Nov-2005',\n",
       " '20-Nov-2005',\n",
       " '15-Nov-2005',\n",
       " '12-Nov-2005',\n",
       " '02-Nov-2005',\n",
       " '29-Oct-2005',\n",
       " '25-Oct-2005',\n",
       " '22-Oct-2005',\n",
       " '21-Oct-2005',\n",
       " '19-Oct-2005',\n",
       " '15-Oct-2005',\n",
       " '13-Oct-2005',\n",
       " '11-Oct-2005',\n",
       " '06-Oct-2005',\n",
       " '03-Oct-2005',\n",
       " ...]"
      ]
     },
     "execution_count": 24,
     "metadata": {},
     "output_type": "execute_result"
    }
   ],
   "source": [
    " list(attacks[\"date\"].unique())"
   ]
  },
  {
   "cell_type": "code",
   "execution_count": 25,
   "id": "3ca1856d",
   "metadata": {},
   "outputs": [],
   "source": [
    "#extract month from date\n",
    "attacks['date'] = attacks['date'].str.extract('(-\\D{3}-)', expand=True)"
   ]
  },
  {
   "cell_type": "code",
   "execution_count": 26,
   "id": "0cc2e47e",
   "metadata": {},
   "outputs": [],
   "source": [
    "#remove - as separator\n",
    "regex_list = [r\"(-\\D{3}-): \", r\"-\"]\n",
    "attacks['date'] = attacks['date'].replace(regex=regex_list, value=\"\")"
   ]
  },
  {
   "cell_type": "code",
   "execution_count": 27,
   "id": "2ddfb720",
   "metadata": {},
   "outputs": [],
   "source": [
    "attacks['month']=attacks['date']"
   ]
  },
  {
   "cell_type": "code",
   "execution_count": 28,
   "id": "83e81b90",
   "metadata": {},
   "outputs": [
    {
     "data": {
      "text/plain": [
       "array(['Jun', 'May', nan, 'Apr', 'Mar', 'Feb', 'Jan', 'Dec', 'Nov', 'Oct',\n",
       "       'Sep', 'Aug', 'Jul'], dtype=object)"
      ]
     },
     "execution_count": 28,
     "metadata": {},
     "output_type": "execute_result"
    }
   ],
   "source": [
    "attacks[\"month\"].unique()"
   ]
  },
  {
   "cell_type": "code",
   "execution_count": 29,
   "id": "ac0b110e",
   "metadata": {},
   "outputs": [
    {
     "data": {
      "text/plain": [
       "<AxesSubplot:xlabel='month', ylabel='Count'>"
      ]
     },
     "execution_count": 29,
     "metadata": {},
     "output_type": "execute_result"
    },
    {
     "data": {
      "image/png": "[encoded data removed]",
      "text/plain": [
       "<Figure size 432x288 with 1 Axes>"
      ]
     },
     "metadata": {
      "needs_background": "light"
     },
     "output_type": "display_data"
    }
   ],
   "source": [
    "attacks.dropna(subset=['month'], inplace = True)\n",
    "sns.histplot(data=attacks, x=\"month\")"
   ]
  },
  {
   "cell_type": "markdown",
   "id": "66867d1f",
   "metadata": {},
   "source": [
    "#### Year"
   ]
  },
  {
   "cell_type": "code",
   "execution_count": 30,
   "id": "9b9a0890",
   "metadata": {},
   "outputs": [],
   "source": [
    "attacks.dropna(subset=['year'], inplace = True)\n",
    "attacks.year = attacks.year.astype(int)"
   ]
  },
  {
   "cell_type": "code",
   "execution_count": 31,
   "id": "5d3f3a96",
   "metadata": {},
   "outputs": [
    {
     "data": {
      "text/plain": [
       "<AxesSubplot:xlabel='year', ylabel='Count'>"
      ]
     },
     "execution_count": 31,
     "metadata": {},
     "output_type": "execute_result"
    },
    {
     "data": {
      "image/png": "[encoded data removed]",
      "text/plain": [
       "<Figure size 432x288 with 1 Axes>"
      ]
     },
     "metadata": {
      "needs_background": "light"
     },
     "output_type": "display_data"
    }
   ],
   "source": [
    "sns.histplot(x=attacks.year, bins=30)"
   ]
  },
  {
   "cell_type": "code",
   "execution_count": 32,
   "id": "eeda05ba",
   "metadata": {},
   "outputs": [
    {
     "data": {
      "text/plain": [
       "<AxesSubplot:xlabel='year', ylabel='Count'>"
      ]
     },
     "execution_count": 32,
     "metadata": {},
     "output_type": "execute_result"
    },
    {
     "data": {
      "image/png": "[encoded data removed]",
      "text/plain": [
       "<Figure size 432x288 with 1 Axes>"
      ]
     },
     "metadata": {
      "needs_background": "light"
     },
     "output_type": "display_data"
    }
   ],
   "source": [
    "#Removing the data where 'Year'\n",
    "attacks = attacks.loc[attacks['year'] > 1850,:]\n",
    "sns.histplot(x=attacks.year, bins=20,color='blue')"
   ]
  },
  {
   "cell_type": "code",
   "execution_count": 33,
   "id": "9955708c",
   "metadata": {},
   "outputs": [
    {
     "data": {
      "text/plain": [
       "<AxesSubplot:xlabel='year', ylabel='count'>"
      ]
     },
     "execution_count": 33,
     "metadata": {},
     "output_type": "execute_result"
    },
    {
     "data": {
      "image/png": "[encoded data removed]",
      "text/plain": [
       "<Figure size 432x288 with 1 Axes>"
      ]
     },
     "metadata": {
      "needs_background": "light"
     },
     "output_type": "display_data"
    }
   ],
   "source": [
    "sns.countplot(x=attacks.year, )"
   ]
  },
  {
   "cell_type": "markdown",
   "id": "1db574f6",
   "metadata": {},
   "source": [
    "#### Sex"
   ]
  },
  {
   "cell_type": "code",
   "execution_count": 34,
   "id": "c3d7f494",
   "metadata": {},
   "outputs": [
    {
     "data": {
      "text/plain": [
       "M      2805\n",
       "F       436\n",
       "M         1\n",
       "lli       1\n",
       "Name: sex, dtype: int64"
      ]
     },
     "execution_count": 34,
     "metadata": {},
     "output_type": "execute_result"
    }
   ],
   "source": [
    "attacks[\"sex\"].value_counts()"
   ]
  },
  {
   "cell_type": "code",
   "execution_count": 35,
   "id": "c3301369",
   "metadata": {},
   "outputs": [
    {
     "data": {
      "text/plain": [
       "array(['F', 'M', 'M ', nan, 'lli'], dtype=object)"
      ]
     },
     "execution_count": 35,
     "metadata": {},
     "output_type": "execute_result"
    }
   ],
   "source": [
    "attacks[\"sex\"].unique()"
   ]
  },
  {
   "cell_type": "code",
   "execution_count": 36,
   "id": "11914826",
   "metadata": {},
   "outputs": [],
   "source": [
    "attacks.loc[attacks['sex'].str.contains('M ', case=False, na=False), 'sex'] = 'M'\n",
    "attacks.drop(attacks[attacks[\"sex\"] == 'lli'].index, inplace=True)\n",
    "attacks.drop(attacks[attacks[\"sex\"] == 'nan'].index, inplace=True)"
   ]
  },
  {
   "cell_type": "code",
   "execution_count": 37,
   "id": "245da11b",
   "metadata": {},
   "outputs": [
    {
     "data": {
      "text/plain": [
       "M    2806\n",
       "F     436\n",
       "Name: sex, dtype: int64"
      ]
     },
     "execution_count": 37,
     "metadata": {},
     "output_type": "execute_result"
    }
   ],
   "source": [
    "attacks[\"sex\"].value_counts()"
   ]
  },
  {
   "cell_type": "code",
   "execution_count": 38,
   "id": "40332810",
   "metadata": {},
   "outputs": [
    {
     "data": {
      "text/plain": [
       "<AxesSubplot:xlabel='sex', ylabel='count'>"
      ]
     },
     "execution_count": 38,
     "metadata": {},
     "output_type": "execute_result"
    },
    {
     "data": {
      "image/png": "[encoded data removed]",
      "text/plain": [
       "<Figure size 432x288 with 1 Axes>"
      ]
     },
     "metadata": {
      "needs_background": "light"
     },
     "output_type": "display_data"
    }
   ],
   "source": [
    "sns.countplot(x=attacks.sex)"
   ]
  },
  {
   "cell_type": "code",
   "execution_count": 39,
   "id": "d3cb161e",
   "metadata": {},
   "outputs": [],
   "source": [
    "attacks[\"sex_count\"]=attacks[\"sex\"].replace(['M', 'F'],[1, 0], inplace=False)"
   ]
  },
  {
   "cell_type": "markdown",
   "id": "e23c88ae",
   "metadata": {},
   "source": [
    "#### Age"
   ]
  },
  {
   "cell_type": "code",
   "execution_count": 40,
   "id": "7ec6de7e",
   "metadata": {},
   "outputs": [
    {
     "data": {
      "text/plain": [
       "17                147\n",
       "18                141\n",
       "19                136\n",
       "20                133\n",
       "16                130\n",
       "                 ... \n",
       "7      &    31      1\n",
       " 30                 1\n",
       "23 & 20             1\n",
       "mid-30s             1\n",
       "1                   1\n",
       "Name: age, Length: 148, dtype: int64"
      ]
     },
     "execution_count": 40,
     "metadata": {},
     "output_type": "execute_result"
    }
   ],
   "source": [
    "attacks[\"age\"].value_counts()"
   ]
  },
  {
   "cell_type": "code",
   "execution_count": 41,
   "id": "c8dda6d6",
   "metadata": {},
   "outputs": [
    {
     "data": {
      "text/plain": [
       "['57',\n",
       " '11',\n",
       " '48',\n",
       " '18',\n",
       " '52',\n",
       " '15',\n",
       " '12',\n",
       " '32',\n",
       " '10',\n",
       " '21',\n",
       " '30',\n",
       " '60',\n",
       " '33',\n",
       " '29',\n",
       " '54',\n",
       " '34',\n",
       " '41',\n",
       " '37',\n",
       " '56',\n",
       " '19',\n",
       " '25',\n",
       " '69',\n",
       " '38',\n",
       " '55',\n",
       " '35',\n",
       " '46',\n",
       " '45',\n",
       " '14',\n",
       " '40s',\n",
       " '28',\n",
       " '20',\n",
       " '24',\n",
       " '26',\n",
       " '49',\n",
       " '22',\n",
       " '7',\n",
       " '31',\n",
       " '17',\n",
       " '40',\n",
       " '13',\n",
       " '42',\n",
       " '3',\n",
       " '8',\n",
       " '50',\n",
       " '16',\n",
       " '82',\n",
       " '73',\n",
       " '20s',\n",
       " '68',\n",
       " '51',\n",
       " '39',\n",
       " '58',\n",
       " 'Teen',\n",
       " '47',\n",
       " '61',\n",
       " '65',\n",
       " '36',\n",
       " '66',\n",
       " '43',\n",
       " '60s',\n",
       " '9',\n",
       " '72',\n",
       " '59',\n",
       " '6',\n",
       " '27',\n",
       " '64',\n",
       " '23',\n",
       " '71',\n",
       " '44',\n",
       " '62',\n",
       " '63',\n",
       " '70',\n",
       " '18 months',\n",
       " '53',\n",
       " '30s',\n",
       " '50s',\n",
       " 'teen',\n",
       " '77',\n",
       " '74',\n",
       " '28 & 26',\n",
       " '5',\n",
       " '86',\n",
       " '18 or 20',\n",
       " '12 or 13',\n",
       " '46 & 34',\n",
       " '28, 23 & 30',\n",
       " 'Teens',\n",
       " '36 & 26',\n",
       " '8 or 10',\n",
       " '84',\n",
       " '\\xa0 ',\n",
       " ' ',\n",
       " '30 or 36',\n",
       " '6½',\n",
       " '21 & ?',\n",
       " '75',\n",
       " '33 or 37',\n",
       " 'mid-30s',\n",
       " '23 & 20',\n",
       " ' 30',\n",
       " '7      &    31',\n",
       " ' 28',\n",
       " '20?',\n",
       " '32 & 30',\n",
       " '16 to 18',\n",
       " '87',\n",
       " '67',\n",
       " 'Elderly',\n",
       " 'mid-20s',\n",
       " '74 ',\n",
       " '45 ',\n",
       " '21 or 26',\n",
       " '20 ',\n",
       " '>50',\n",
       " '18 to 22',\n",
       " 'adult',\n",
       " '9 & 12',\n",
       " '? & 19',\n",
       " '25 to 35',\n",
       " '(adult)',\n",
       " '33 & 37',\n",
       " '25 or 28',\n",
       " '37, 67, 35, 27,  ? & 27',\n",
       " '21, 34,24 & 35',\n",
       " '30 & 32',\n",
       " '50 & 30',\n",
       " '17 & 35',\n",
       " 'X',\n",
       " '13 or 18',\n",
       " '33 & 26',\n",
       " 'MAKE LINE GREEN',\n",
       " ' 43',\n",
       " '81',\n",
       " '\"young\"',\n",
       " '17 & 16',\n",
       " 'F',\n",
       " 'Both 11',\n",
       " '9 or 10',\n",
       " 'young',\n",
       " '36 & 23',\n",
       " '  ',\n",
       " '78',\n",
       " 'A.M.',\n",
       " '?    &   14',\n",
       " '10 or 12',\n",
       " '31 or 33',\n",
       " '2½',\n",
       " '1']"
      ]
     },
     "execution_count": 41,
     "metadata": {},
     "output_type": "execute_result"
    }
   ],
   "source": [
    "list(attacks[\"age\"].unique())"
   ]
  },
  {
   "cell_type": "code",
   "execution_count": 42,
   "id": "3d8408c5",
   "metadata": {},
   "outputs": [],
   "source": [
    "#extract age\n",
    "attacks['age'] = attacks['age'].str.extract('(\\d{1,2})', expand=True)"
   ]
  },
  {
   "cell_type": "code",
   "execution_count": 43,
   "id": "15ae208b",
   "metadata": {},
   "outputs": [
    {
     "data": {
      "text/plain": [
       "array(['57', '11', '48', '18', '52', '15', '12', '32', '10', '21', '30',\n",
       "       '60', '33', '29', '54', '34', '41', '37', '56', '19', '25', '69',\n",
       "       '38', '55', '35', '46', '45', '14', '40', '28', '20', '24', '26',\n",
       "       '49', '22', '7', '31', '17', '13', '42', '3', '8', '50', '16',\n",
       "       '82', '73', '68', '51', '39', '58', nan, '47', '61', '65', '36',\n",
       "       '66', '43', '9', '72', '59', '6', '27', '64', '23', '71', '44',\n",
       "       '62', '63', '70', '53', '77', '74', '5', '86', '84', '75', '87',\n",
       "       '67', '81', '78', '2', '1'], dtype=object)"
      ]
     },
     "execution_count": 43,
     "metadata": {},
     "output_type": "execute_result"
    }
   ],
   "source": [
    "attacks[\"age\"].unique()\n"
   ]
  },
  {
   "cell_type": "code",
   "execution_count": 44,
   "id": "cba04573",
   "metadata": {},
   "outputs": [],
   "source": [
    "attacks.dropna(subset=['age'], inplace = True)\n",
    "attacks.age = attacks.age.astype(int)"
   ]
  },
  {
   "cell_type": "code",
   "execution_count": 45,
   "id": "49ba6a8e",
   "metadata": {},
   "outputs": [
    {
     "data": {
      "text/plain": [
       "<AxesSubplot:xlabel='age', ylabel='Count'>"
      ]
     },
     "execution_count": 45,
     "metadata": {},
     "output_type": "execute_result"
    },
    {
     "data": {
      "image/png": "[encoded data removed]",
      "text/plain": [
       "<Figure size 432x288 with 1 Axes>"
      ]
     },
     "metadata": {
      "needs_background": "light"
     },
     "output_type": "display_data"
    }
   ],
   "source": [
    "sns.histplot(x=attacks.age, bins=30)"
   ]
  },
  {
   "cell_type": "code",
   "execution_count": 49,
   "id": "88e58b71",
   "metadata": {},
   "outputs": [
    {
     "data": {
      "image/png": "[encoded data removed]",
      "text/plain": [
       "<Figure size 1440x3600 with 1 Axes>"
      ]
     },
     "metadata": {},
     "output_type": "display_data"
    }
   ],
   "source": [
    "attacks.groupby([\"age\", \"sex\"])[\"sex\"].count().plot(kind=\"bar\", color=[\"slategray\",\"coral\"])\n",
    "sns.set(rc={'figure.figsize': (20.,50.)})\n",
    "sns.set_style('whitegrid')"
   ]
  },
  {
   "cell_type": "markdown",
   "id": "6dd709bc",
   "metadata": {},
   "source": [
    "#### Country"
   ]
  },
  {
   "cell_type": "code",
   "execution_count": 56,
   "id": "193d1b89",
   "metadata": {},
   "outputs": [
    {
     "data": {
      "text/plain": [
       "{' TONGA',\n",
       " 'ADMIRALTY ISLANDS',\n",
       " 'AMERICAN SAMOA',\n",
       " 'ANDAMAN / NICOBAR ISLANDAS',\n",
       " 'ARGENTINA',\n",
       " 'ARUBA',\n",
       " 'ATLANTIC OCEAN',\n",
       " 'AUSTRALIA',\n",
       " 'AZORES',\n",
       " 'BAHAMAS',\n",
       " 'BARBADOS',\n",
       " 'BELIZE',\n",
       " 'BERMUDA',\n",
       " 'BRAZIL',\n",
       " 'BRITISH ISLES',\n",
       " 'BRITISH NEW GUINEA',\n",
       " 'BRITISH VIRGIN ISLANDS',\n",
       " 'BRITISH WEST INDIES',\n",
       " 'CANADA',\n",
       " 'CAPE VERDE',\n",
       " 'CARIBBEAN SEA',\n",
       " 'CAYMAN ISLANDS',\n",
       " 'CENTRAL PACIFIC',\n",
       " 'CHILE',\n",
       " 'CHINA',\n",
       " 'COLUMBIA',\n",
       " 'COSTA RICA',\n",
       " 'CROATIA',\n",
       " 'CUBA',\n",
       " 'DIEGO GARCIA',\n",
       " 'DOMINICAN REPUBLIC',\n",
       " 'ECUADOR',\n",
       " 'EGYPT',\n",
       " 'EGYPT ',\n",
       " 'EL SALVADOR',\n",
       " 'ENGLAND',\n",
       " 'FEDERATED STATES OF MICRONESIA',\n",
       " 'FIJI',\n",
       " 'FRANCE',\n",
       " 'FRENCH POLYNESIA',\n",
       " 'Fiji',\n",
       " 'GRAND CAYMAN',\n",
       " 'GREECE',\n",
       " 'GRENADA',\n",
       " 'GUAM',\n",
       " 'GUINEA',\n",
       " 'HONDURAS',\n",
       " 'HONG KONG',\n",
       " 'INDIA',\n",
       " 'INDONESIA',\n",
       " 'IRAN',\n",
       " 'IRAQ',\n",
       " 'ISRAEL',\n",
       " 'ITALY',\n",
       " 'JAMAICA',\n",
       " 'JAPAN',\n",
       " 'KENYA',\n",
       " 'KIRIBATI',\n",
       " 'MADAGASCAR',\n",
       " 'MALAYSIA',\n",
       " 'MALDIVES',\n",
       " 'MALTA',\n",
       " 'MARSHALL ISLANDS',\n",
       " 'MAURITIUS',\n",
       " 'MEXICO',\n",
       " 'MICRONESIA',\n",
       " 'MID ATLANTIC OCEAN',\n",
       " 'MOZAMBIQUE',\n",
       " 'NEW BRITAIN',\n",
       " 'NEW CALEDONIA',\n",
       " 'NEW GUINEA',\n",
       " 'NEW ZEALAND',\n",
       " 'NICARAGUA',\n",
       " 'NIGERIA',\n",
       " 'NORTH PACIFIC OCEAN',\n",
       " 'NORTH SEA',\n",
       " 'NORWAY',\n",
       " 'OKINAWA',\n",
       " 'PACIFIC OCEAN',\n",
       " 'PACIFIC OCEAN ',\n",
       " 'PALAU',\n",
       " 'PALESTINIAN TERRITORIES',\n",
       " 'PANAMA',\n",
       " 'PAPUA NEW GUINEA',\n",
       " 'PHILIPPINES',\n",
       " 'PORTUGAL',\n",
       " 'PUERTO RICO',\n",
       " 'REUNION',\n",
       " 'RUSSIA',\n",
       " 'SAMOA',\n",
       " 'SAUDI ARABIA',\n",
       " 'SCOTLAND',\n",
       " 'SENEGAL',\n",
       " 'SEYCHELLES',\n",
       " 'SIERRA LEONE',\n",
       " 'SINGAPORE',\n",
       " 'SOLOMON ISLANDS',\n",
       " 'SOMALIA',\n",
       " 'SOUTH AFRICA',\n",
       " 'SOUTH ATLANTIC OCEAN',\n",
       " 'SOUTH CHINA SEA',\n",
       " 'SOUTH KOREA',\n",
       " 'SPAIN',\n",
       " 'SRI LANKA',\n",
       " 'ST HELENA, British overseas territory',\n",
       " 'ST. MAARTIN',\n",
       " 'ST. MARTIN',\n",
       " 'TAIWAN',\n",
       " 'TANZANIA',\n",
       " 'THAILAND',\n",
       " 'TONGA',\n",
       " 'TRINIDAD & TOBAGO',\n",
       " 'TURKEY',\n",
       " 'TURKS & CAICOS',\n",
       " 'UNITED ARAB EMIRATES',\n",
       " 'UNITED ARAB EMIRATES (UAE)',\n",
       " 'UNITED KINGDOM',\n",
       " 'URUGUAY',\n",
       " 'USA',\n",
       " 'VANUATU',\n",
       " 'VENEZUELA',\n",
       " 'VIETNAM',\n",
       " 'WESTERN SAMOA',\n",
       " 'YEMEN ',\n",
       " nan}"
      ]
     },
     "execution_count": 56,
     "metadata": {},
     "output_type": "execute_result"
    }
   ],
   "source": [
    "#count unique occurrences of countries\n",
    "set(attacks[\"country\"])"
   ]
  },
  {
   "cell_type": "code",
   "execution_count": 66,
   "id": "5546ad6f",
   "metadata": {},
   "outputs": [],
   "source": [
    "#function country - hemisphere\n",
    "def hemisphere(country):\n",
    "    North=['ADMIRALTY ISLANDS',' TONGA','AMERICAN SAMOA','ARUBA', 'AZORES','BARBADOS','BAHAMAS', 'BERMUDA', 'BELIZE','BRITISH ISLES',\n",
    "      'DOMINICAN REPUBLIC','COSTA RICA','CROATIA','CUBA','ENGLAND','CHINA','IRAQ','IRAN','ISRAEL','ITALY','JAPAN','COLUMBIA','CANADA','CENTRAL PACIFIC',\n",
    "       'CARIBBEAN SEA', 'TURKS & CAICOS','ST. MAARTIN','ST. MARTIN', 'TRINIDAD & TOBAGO', 'TONGA','TAIWAN','VIETNAM','THAILAND','USA', 'SOUTH CHINA SEA', 'SOUTH KOREA','UNITED KINGDOM','UNITED ARAB EMIRATES (UAE)','UNITED ARAB EMIRATES','SRI LANKA', 'PUERTO RICO','PHILIPPINES','TURKEY','SPAIN','SINGAPORE','PALESTINIAN TERRITORIES','SOMALIA','SIERRA LEONE','PANAMA','SENEGAL', 'SAUDI ARABIA','SCOTLAND','RUSSIA','PORTUGAL','PALA','OKINAWA','NICARAGUA','NIGERIA','MICRONESIA','NEW BRITAIN','MID ATLANTIC OCEAN','MARSHALL ISLANDS', 'MALAYSIA','JAMAICA', 'INDIA', 'HONG KONG','HONDURAS','GUINEA','GUAM','GRENADA','EL SALVADOR', 'CAYMAN ISLANDS','GRAND CAYMAN','FEDERATED STATES OF MICRONESIA', 'MALTA', 'GREECE','FRANCE','MEXICO','NORWAY','BRITISH VIRGIN ISLANDS', 'BRITISH WEST INDIES',]\n",
    "    South=['ARGENTINA','PAPUA NEW GUINEA', 'WESTERN SAMOA','URUGUAY','TANZANIA', 'SOLOMON ISLANDS','SAMOA','SEYCHELLES','ANDAMAN / NICOBAR ISLANDAS', 'AUSTRALIA', 'BRAZIL','BRITISH NEW GUINEA','CHILE','EGYPT ','EGYPT','CAPE VERDE','ECUADOR','FIJI','Fiji',\n",
    "      'DIEGO GARCIA','NEW GUINEA','VANUATU','VENEZUELA','SOUTH AFRICA','NEW CALEDONIA','MOZAMBIQUE','NEW ZEALAND', 'KENYA','KIRIBATI','MADAGASCAR','MAURITIUS', 'MALDIVES','FRENCH POLYNESIA','INDONESIA',]\n",
    "    if country in North:\n",
    "        return 'North Hemisphere'\n",
    "    elif country in South:\n",
    "        return 'South Hemisphere'\n",
    "    else:\n",
    "        return ''"
   ]
  },
  {
   "cell_type": "code",
   "execution_count": 67,
   "id": "915b176a",
   "metadata": {},
   "outputs": [],
   "source": [
    "#new column hemisphere\n",
    "attacks['hemisphere']=attacks['country'].apply(lambda x: hemisphere(x))"
   ]
  },
  {
   "cell_type": "code",
   "execution_count": 71,
   "id": "a794d7a6",
   "metadata": {},
   "outputs": [],
   "source": [
    "def season_hemisphere(month,hemisphere):\n",
    "    North_dict={'Dec':'winter','Jan':'winter','Feb':'winter','Mar':'spring','Apr':'spring','May':'spring','Jun':'summer',\n",
    "           'Jul':'summer','Aug':'summer','Sep':'autumn','Oct':'autumn','Nov':'autumn'}\n",
    "    South_dict={'Dec':'summer','Jan':'summer','Feb':'summer','Mar':'autumn','Apr':'autumn','May':'autumn','Jun':'winter',\n",
    "           'Jul':'winter','Aug':'winter','Sep':'spring','Oct':'spring','Nov':'spring'}\n",
    "    if hemisphere == 'North Hemisphere':\n",
    "        return North_dict[month]\n",
    "    elif hemisphere == 'South Hemisphere':\n",
    "        return South_dict[month]\n",
    "    else:\n",
    "        return ''"
   ]
  },
  {
   "cell_type": "code",
   "execution_count": 73,
   "id": "4f33ed34",
   "metadata": {},
   "outputs": [
    {
     "data": {
      "text/html": [
       "<div>\n",
       "<style scoped>\n",
       "    .dataframe tbody tr th:only-of-type {\n",
       "        vertical-align: middle;\n",
       "    }\n",
       "\n",
       "    .dataframe tbody tr th {\n",
       "        vertical-align: top;\n",
       "    }\n",
       "\n",
       "    .dataframe thead th {\n",
       "        text-align: right;\n",
       "    }\n",
       "</style>\n",
       "<table border=\"1\" class=\"dataframe\">\n",
       "  <thead>\n",
       "    <tr style=\"text-align: right;\">\n",
       "      <th></th>\n",
       "      <th>date</th>\n",
       "      <th>year</th>\n",
       "      <th>type</th>\n",
       "      <th>country</th>\n",
       "      <th>area</th>\n",
       "      <th>location</th>\n",
       "      <th>activity</th>\n",
       "      <th>sex</th>\n",
       "      <th>age</th>\n",
       "      <th>injury</th>\n",
       "      <th>fatal (y/n)</th>\n",
       "      <th>species</th>\n",
       "      <th>month</th>\n",
       "      <th>sex_count</th>\n",
       "      <th>hemisphere</th>\n",
       "      <th>season_hemisphere</th>\n",
       "    </tr>\n",
       "  </thead>\n",
       "  <tbody>\n",
       "    <tr>\n",
       "      <th>0</th>\n",
       "      <td>Jun</td>\n",
       "      <td>2018</td>\n",
       "      <td>Boating</td>\n",
       "      <td>USA</td>\n",
       "      <td>California</td>\n",
       "      <td>Oceanside, San Diego County</td>\n",
       "      <td>Paddling</td>\n",
       "      <td>F</td>\n",
       "      <td>57</td>\n",
       "      <td>No injury to occupant, outrigger canoe and pad...</td>\n",
       "      <td>N</td>\n",
       "      <td>White shark</td>\n",
       "      <td>Jun</td>\n",
       "      <td>0.0</td>\n",
       "      <td>North Hemisphere</td>\n",
       "      <td>summer</td>\n",
       "    </tr>\n",
       "    <tr>\n",
       "      <th>1</th>\n",
       "      <td>Jun</td>\n",
       "      <td>2018</td>\n",
       "      <td>Unprovoked</td>\n",
       "      <td>USA</td>\n",
       "      <td>Georgia</td>\n",
       "      <td>St. Simon Island, Glynn County</td>\n",
       "      <td>Standing</td>\n",
       "      <td>F</td>\n",
       "      <td>11</td>\n",
       "      <td>Minor injury to left thigh</td>\n",
       "      <td>N</td>\n",
       "      <td>NaN</td>\n",
       "      <td>Jun</td>\n",
       "      <td>0.0</td>\n",
       "      <td>North Hemisphere</td>\n",
       "      <td>summer</td>\n",
       "    </tr>\n",
       "    <tr>\n",
       "      <th>2</th>\n",
       "      <td>Jun</td>\n",
       "      <td>2018</td>\n",
       "      <td>Invalid</td>\n",
       "      <td>USA</td>\n",
       "      <td>Hawaii</td>\n",
       "      <td>Habush, Oahu</td>\n",
       "      <td>Surfing</td>\n",
       "      <td>M</td>\n",
       "      <td>48</td>\n",
       "      <td>Injury to left lower leg from surfboard skeg</td>\n",
       "      <td>N</td>\n",
       "      <td>NaN</td>\n",
       "      <td>Jun</td>\n",
       "      <td>1.0</td>\n",
       "      <td>North Hemisphere</td>\n",
       "      <td>summer</td>\n",
       "    </tr>\n",
       "    <tr>\n",
       "      <th>6</th>\n",
       "      <td>Jun</td>\n",
       "      <td>2018</td>\n",
       "      <td>Unprovoked</td>\n",
       "      <td>BRAZIL</td>\n",
       "      <td>Pernambuco</td>\n",
       "      <td>Piedade Beach, Recife</td>\n",
       "      <td>Swimming</td>\n",
       "      <td>M</td>\n",
       "      <td>18</td>\n",
       "      <td>FATAL</td>\n",
       "      <td>Y</td>\n",
       "      <td>Tiger shark</td>\n",
       "      <td>Jun</td>\n",
       "      <td>1.0</td>\n",
       "      <td>South Hemisphere</td>\n",
       "      <td>winter</td>\n",
       "    </tr>\n",
       "    <tr>\n",
       "      <th>7</th>\n",
       "      <td>May</td>\n",
       "      <td>2018</td>\n",
       "      <td>Unprovoked</td>\n",
       "      <td>USA</td>\n",
       "      <td>Florida</td>\n",
       "      <td>Lighhouse Point Park, Ponce Inlet, Volusia County</td>\n",
       "      <td>Fishing</td>\n",
       "      <td>M</td>\n",
       "      <td>52</td>\n",
       "      <td>Minor injury to foot. PROVOKED INCIDENT</td>\n",
       "      <td>N</td>\n",
       "      <td>Lemon shark, 3'</td>\n",
       "      <td>May</td>\n",
       "      <td>1.0</td>\n",
       "      <td>North Hemisphere</td>\n",
       "      <td>spring</td>\n",
       "    </tr>\n",
       "    <tr>\n",
       "      <th>...</th>\n",
       "      <td>...</td>\n",
       "      <td>...</td>\n",
       "      <td>...</td>\n",
       "      <td>...</td>\n",
       "      <td>...</td>\n",
       "      <td>...</td>\n",
       "      <td>...</td>\n",
       "      <td>...</td>\n",
       "      <td>...</td>\n",
       "      <td>...</td>\n",
       "      <td>...</td>\n",
       "      <td>...</td>\n",
       "      <td>...</td>\n",
       "      <td>...</td>\n",
       "      <td>...</td>\n",
       "      <td>...</td>\n",
       "    </tr>\n",
       "    <tr>\n",
       "      <th>5991</th>\n",
       "      <td>Mar</td>\n",
       "      <td>1858</td>\n",
       "      <td>Unprovoked</td>\n",
       "      <td>AUSTRALIA</td>\n",
       "      <td>Victoria</td>\n",
       "      <td>Hobson Bay</td>\n",
       "      <td>Bathing</td>\n",
       "      <td>M</td>\n",
       "      <td>22</td>\n",
       "      <td>FATAL</td>\n",
       "      <td>Y</td>\n",
       "      <td>NaN</td>\n",
       "      <td>Mar</td>\n",
       "      <td>1.0</td>\n",
       "      <td>South Hemisphere</td>\n",
       "      <td>autumn</td>\n",
       "    </tr>\n",
       "    <tr>\n",
       "      <th>5996</th>\n",
       "      <td>Nov</td>\n",
       "      <td>1856</td>\n",
       "      <td>Unprovoked</td>\n",
       "      <td>NaN</td>\n",
       "      <td>NaN</td>\n",
       "      <td>NaN</td>\n",
       "      <td>Swimming</td>\n",
       "      <td>M</td>\n",
       "      <td>22</td>\n",
       "      <td>FATAL</td>\n",
       "      <td>Y</td>\n",
       "      <td>NaN</td>\n",
       "      <td>Nov</td>\n",
       "      <td>1.0</td>\n",
       "      <td></td>\n",
       "      <td></td>\n",
       "    </tr>\n",
       "    <tr>\n",
       "      <th>5998</th>\n",
       "      <td>Feb</td>\n",
       "      <td>1856</td>\n",
       "      <td>Unprovoked</td>\n",
       "      <td>AUSTRALIA</td>\n",
       "      <td>Victoria</td>\n",
       "      <td>Point Henry</td>\n",
       "      <td>Swimming</td>\n",
       "      <td>M</td>\n",
       "      <td>17</td>\n",
       "      <td>Severe bite to thigh. Not known if he survived</td>\n",
       "      <td>UNKNOWN</td>\n",
       "      <td>NaN</td>\n",
       "      <td>Feb</td>\n",
       "      <td>1.0</td>\n",
       "      <td>South Hemisphere</td>\n",
       "      <td>summer</td>\n",
       "    </tr>\n",
       "    <tr>\n",
       "      <th>6002</th>\n",
       "      <td>Apr</td>\n",
       "      <td>1855</td>\n",
       "      <td>Unprovoked</td>\n",
       "      <td>AUSTRALIA</td>\n",
       "      <td>South Australia</td>\n",
       "      <td>Port Wakefield</td>\n",
       "      <td>Fell overboard from the Malacca</td>\n",
       "      <td>F</td>\n",
       "      <td>2</td>\n",
       "      <td>FATAL</td>\n",
       "      <td>Y</td>\n",
       "      <td>NaN</td>\n",
       "      <td>Apr</td>\n",
       "      <td>0.0</td>\n",
       "      <td>South Hemisphere</td>\n",
       "      <td>autumn</td>\n",
       "    </tr>\n",
       "    <tr>\n",
       "      <th>6019</th>\n",
       "      <td>Jul</td>\n",
       "      <td>1852</td>\n",
       "      <td>Invalid</td>\n",
       "      <td>ATLANTIC OCEAN</td>\n",
       "      <td>NaN</td>\n",
       "      <td>NaN</td>\n",
       "      <td>NaN</td>\n",
       "      <td>F</td>\n",
       "      <td>1</td>\n",
       "      <td>Death preceded shark involvement</td>\n",
       "      <td>NaN</td>\n",
       "      <td>Invalid</td>\n",
       "      <td>Jul</td>\n",
       "      <td>0.0</td>\n",
       "      <td></td>\n",
       "      <td></td>\n",
       "    </tr>\n",
       "  </tbody>\n",
       "</table>\n",
       "<p>3249 rows × 16 columns</p>\n",
       "</div>"
      ],
      "text/plain": [
       "     date  year        type         country             area  \\\n",
       "0     Jun  2018     Boating             USA       California   \n",
       "1     Jun  2018  Unprovoked             USA          Georgia   \n",
       "2     Jun  2018     Invalid             USA           Hawaii   \n",
       "6     Jun  2018  Unprovoked          BRAZIL       Pernambuco   \n",
       "7     May  2018  Unprovoked             USA          Florida   \n",
       "...   ...   ...         ...             ...              ...   \n",
       "5991  Mar  1858  Unprovoked       AUSTRALIA         Victoria   \n",
       "5996  Nov  1856  Unprovoked             NaN              NaN   \n",
       "5998  Feb  1856  Unprovoked       AUSTRALIA         Victoria   \n",
       "6002  Apr  1855  Unprovoked       AUSTRALIA  South Australia   \n",
       "6019  Jul  1852     Invalid  ATLANTIC OCEAN              NaN   \n",
       "\n",
       "                                               location  \\\n",
       "0                           Oceanside, San Diego County   \n",
       "1                        St. Simon Island, Glynn County   \n",
       "2                                          Habush, Oahu   \n",
       "6                                 Piedade Beach, Recife   \n",
       "7     Lighhouse Point Park, Ponce Inlet, Volusia County   \n",
       "...                                                 ...   \n",
       "5991                                         Hobson Bay   \n",
       "5996                                                NaN   \n",
       "5998                                        Point Henry   \n",
       "6002                                     Port Wakefield   \n",
       "6019                                                NaN   \n",
       "\n",
       "                             activity sex  age  \\\n",
       "0                            Paddling   F   57   \n",
       "1                            Standing   F   11   \n",
       "2                             Surfing   M   48   \n",
       "6                            Swimming   M   18   \n",
       "7                             Fishing   M   52   \n",
       "...                               ...  ..  ...   \n",
       "5991                          Bathing   M   22   \n",
       "5996                         Swimming   M   22   \n",
       "5998                         Swimming   M   17   \n",
       "6002  Fell overboard from the Malacca   F    2   \n",
       "6019                              NaN   F    1   \n",
       "\n",
       "                                                 injury fatal (y/n)  \\\n",
       "0     No injury to occupant, outrigger canoe and pad...           N   \n",
       "1                            Minor injury to left thigh           N   \n",
       "2          Injury to left lower leg from surfboard skeg           N   \n",
       "6                                                 FATAL           Y   \n",
       "7               Minor injury to foot. PROVOKED INCIDENT           N   \n",
       "...                                                 ...         ...   \n",
       "5991                                              FATAL           Y   \n",
       "5996                                              FATAL           Y   \n",
       "5998     Severe bite to thigh. Not known if he survived     UNKNOWN   \n",
       "6002                                              FATAL           Y   \n",
       "6019                   Death preceded shark involvement         NaN   \n",
       "\n",
       "              species month  sex_count        hemisphere season_hemisphere  \n",
       "0         White shark   Jun        0.0  North Hemisphere            summer  \n",
       "1                 NaN   Jun        0.0  North Hemisphere            summer  \n",
       "2                 NaN   Jun        1.0  North Hemisphere            summer  \n",
       "6         Tiger shark   Jun        1.0  South Hemisphere            winter  \n",
       "7     Lemon shark, 3'   May        1.0  North Hemisphere            spring  \n",
       "...               ...   ...        ...               ...               ...  \n",
       "5991              NaN   Mar        1.0  South Hemisphere            autumn  \n",
       "5996              NaN   Nov        1.0                                      \n",
       "5998              NaN   Feb        1.0  South Hemisphere            summer  \n",
       "6002              NaN   Apr        0.0  South Hemisphere            autumn  \n",
       "6019          Invalid   Jul        0.0                                      \n",
       "\n",
       "[3249 rows x 16 columns]"
      ]
     },
     "execution_count": 73,
     "metadata": {},
     "output_type": "execute_result"
    }
   ],
   "source": [
    "#new column season per month and hemisphere\n",
    "attacks['season_hemisphere']=attacks.apply(lambda x: season_hemisphere(x['month'],x['hemisphere']),1)\n",
    "attacks"
   ]
  },
  {
   "cell_type": "code",
   "execution_count": 93,
   "id": "a598a6b9",
   "metadata": {},
   "outputs": [
    {
     "data": {
      "image/png": "[encoded data removed]",
      "text/plain": [
       "<Figure size 864x576 with 1 Axes>"
      ]
     },
     "metadata": {},
     "output_type": "display_data"
    }
   ],
   "source": [
    "#Which hemisphere has more attacks?\n",
    "fig, ax = plt.subplots(figsize=(12, 8))\n",
    "sns.countplot(ax=ax,x=attacks.loc[attacks['hemisphere']!=''].hemisphere)\n",
    "fig.savefig('/Users/Juliana/Desktop/Ironhack/Projects/Ironhack-Project/figures/Attacks_per_hemisphere.png')"
   ]
  },
  {
   "cell_type": "code",
   "execution_count": 91,
   "id": "32ceac5b",
   "metadata": {},
   "outputs": [
    {
     "data": {
      "text/plain": [
       "'/Users/Juliana/Desktop/Ironhack/Projects/Ironhack-Project'"
      ]
     },
     "execution_count": 91,
     "metadata": {},
     "output_type": "execute_result"
    }
   ],
   "source": [
    "pwd"
   ]
  },
  {
   "cell_type": "code",
   "execution_count": 77,
   "id": "4c3c8e8a",
   "metadata": {},
   "outputs": [],
   "source": [
    "#creating x and y for plotly\n",
    "y_axis=['summer','winter','spring','autumn']\n",
    "x_axis=[len(attacks.loc[attacks['season_hemisphere']=='summer']),\n",
    "        len(attacks.loc[attacks['season_hemisphere']=='winter']),\n",
    "        len(attacks.loc[attacks['season_hemisphere']=='spring']),\n",
    "        len(attacks.loc[attacks['season_hemisphere']=='autumn'])]\n"
   ]
  },
  {
   "cell_type": "code",
   "execution_count": 95,
   "id": "e4560b4c",
   "metadata": {},
   "outputs": [
    {
     "data": {
      "application/vnd.plotly.v1+json": {
       "config": {
        "plotlyServerURL": "https://plot.ly"
       },
       "data": [
        {
         "orientation": "h",
         "type": "bar",
         "x": [
          1376,
          337,
          637,
          832
         ],
         "y": [
          "summer",
          "winter",
          "spring",
          "autumn"
         ]
        }
       ],
       "layout": {
        "template": {
         "data": {
          "bar": [
           {
            "error_x": {
             "color": "#2a3f5f"
            },
            "error_y": {
             "color": "#2a3f5f"
            },
            "marker": {
             "line": {
              "color": "#E5ECF6",
              "width": 0.5
             },
             "pattern": {
              "fillmode": "overlay",
              "size": 10,
              "solidity": 0.2
             }
            },
            "type": "bar"
           }
          ],
          "barpolar": [
           {
            "marker": {
             "line": {
              "color": "#E5ECF6",
              "width": 0.5
             },
             "pattern": {
              "fillmode": "overlay",
              "size": 10,
              "solidity": 0.2
             }
            },
            "type": "barpolar"
           }
          ],
          "carpet": [
           {
            "aaxis": {
             "endlinecolor": "#2a3f5f",
             "gridcolor": "white",
             "linecolor": "white",
             "minorgridcolor": "white",
             "startlinecolor": "#2a3f5f"
            },
            "baxis": {
             "endlinecolor": "#2a3f5f",
             "gridcolor": "white",
             "linecolor": "white",
             "minorgridcolor": "white",
             "startlinecolor": "#2a3f5f"
            },
            "type": "carpet"
           }
          ],
          "choropleth": [
           {
            "colorbar": {
             "outlinewidth": 0,
             "ticks": ""
            },
            "type": "choropleth"
           }
          ],
          "contour": [
           {
            "colorbar": {
             "outlinewidth": 0,
             "ticks": ""
            },
            "colorscale": [
             [
              0,
              "#0d0887"
             ],
             [
              0.1111111111111111,
              "#46039f"
             ],
             [
              0.2222222222222222,
              "#7201a8"
             ],
             [
              0.3333333333333333,
              "#9c179e"
             ],
             [
              0.4444444444444444,
              "#bd3786"
             ],
             [
              0.5555555555555556,
              "#d8576b"
             ],
             [
              0.6666666666666666,
              "#ed7953"
             ],
             [
              0.7777777777777778,
              "#fb9f3a"
             ],
             [
              0.8888888888888888,
              "#fdca26"
             ],
             [
              1,
              "#f0f921"
             ]
            ],
            "type": "contour"
           }
          ],
          "contourcarpet": [
           {
            "colorbar": {
             "outlinewidth": 0,
             "ticks": ""
            },
            "type": "contourcarpet"
           }
          ],
          "heatmap": [
           {
            "colorbar": {
             "outlinewidth": 0,
             "ticks": ""
            },
            "colorscale": [
             [
              0,
              "#0d0887"
             ],
             [
              0.1111111111111111,
              "#46039f"
             ],
             [
              0.2222222222222222,
              "#7201a8"
             ],
             [
              0.3333333333333333,
              "#9c179e"
             ],
             [
              0.4444444444444444,
              "#bd3786"
             ],
             [
              0.5555555555555556,
              "#d8576b"
             ],
             [
              0.6666666666666666,
              "#ed7953"
             ],
             [
              0.7777777777777778,
              "#fb9f3a"
             ],
             [
              0.8888888888888888,
              "#fdca26"
             ],
             [
              1,
              "#f0f921"
             ]
            ],
            "type": "heatmap"
           }
          ],
          "heatmapgl": [
           {
            "colorbar": {
             "outlinewidth": 0,
             "ticks": ""
            },
            "colorscale": [
             [
              0,
              "#0d0887"
             ],
             [
              0.1111111111111111,
              "#46039f"
             ],
             [
              0.2222222222222222,
              "#7201a8"
             ],
             [
              0.3333333333333333,
              "#9c179e"
             ],
             [
              0.4444444444444444,
              "#bd3786"
             ],
             [
              0.5555555555555556,
              "#d8576b"
             ],
             [
              0.6666666666666666,
              "#ed7953"
             ],
             [
              0.7777777777777778,
              "#fb9f3a"
             ],
             [
              0.8888888888888888,
              "#fdca26"
             ],
             [
              1,
              "#f0f921"
             ]
            ],
            "type": "heatmapgl"
           }
          ],
          "histogram": [
           {
            "marker": {
             "pattern": {
              "fillmode": "overlay",
              "size": 10,
              "solidity": 0.2
             }
            },
            "type": "histogram"
           }
          ],
          "histogram2d": [
           {
            "colorbar": {
             "outlinewidth": 0,
             "ticks": ""
            },
            "colorscale": [
             [
              0,
              "#0d0887"
             ],
             [
              0.1111111111111111,
              "#46039f"
             ],
             [
              0.2222222222222222,
              "#7201a8"
             ],
             [
              0.3333333333333333,
              "#9c179e"
             ],
             [
              0.4444444444444444,
              "#bd3786"
             ],
             [
              0.5555555555555556,
              "#d8576b"
             ],
             [
              0.6666666666666666,
              "#ed7953"
             ],
             [
              0.7777777777777778,
              "#fb9f3a"
             ],
             [
              0.8888888888888888,
              "#fdca26"
             ],
             [
              1,
              "#f0f921"
             ]
            ],
            "type": "histogram2d"
           }
          ],
          "histogram2dcontour": [
           {
            "colorbar": {
             "outlinewidth": 0,
             "ticks": ""
            },
            "colorscale": [
             [
              0,
              "#0d0887"
             ],
             [
              0.1111111111111111,
              "#46039f"
             ],
             [
              0.2222222222222222,
              "#7201a8"
             ],
             [
              0.3333333333333333,
              "#9c179e"
             ],
             [
              0.4444444444444444,
              "#bd3786"
             ],
             [
              0.5555555555555556,
              "#d8576b"
             ],
             [
              0.6666666666666666,
              "#ed7953"
             ],
             [
              0.7777777777777778,
              "#fb9f3a"
             ],
             [
              0.8888888888888888,
              "#fdca26"
             ],
             [
              1,
              "#f0f921"
             ]
            ],
            "type": "histogram2dcontour"
           }
          ],
          "mesh3d": [
           {
            "colorbar": {
             "outlinewidth": 0,
             "ticks": ""
            },
            "type": "mesh3d"
           }
          ],
          "parcoords": [
           {
            "line": {
             "colorbar": {
              "outlinewidth": 0,
              "ticks": ""
             }
            },
            "type": "parcoords"
           }
          ],
          "pie": [
           {
            "automargin": true,
            "type": "pie"
           }
          ],
          "scatter": [
           {
            "fillpattern": {
             "fillmode": "overlay",
             "size": 10,
             "solidity": 0.2
            },
            "type": "scatter"
           }
          ],
          "scatter3d": [
           {
            "line": {
             "colorbar": {
              "outlinewidth": 0,
              "ticks": ""
             }
            },
            "marker": {
             "colorbar": {
              "outlinewidth": 0,
              "ticks": ""
             }
            },
            "type": "scatter3d"
           }
          ],
          "scattercarpet": [
           {
            "marker": {
             "colorbar": {
              "outlinewidth": 0,
              "ticks": ""
             }
            },
            "type": "scattercarpet"
           }
          ],
          "scattergeo": [
           {
            "marker": {
             "colorbar": {
              "outlinewidth": 0,
              "ticks": ""
             }
            },
            "type": "scattergeo"
           }
          ],
          "scattergl": [
           {
            "marker": {
             "colorbar": {
              "outlinewidth": 0,
              "ticks": ""
             }
            },
            "type": "scattergl"
           }
          ],
          "scattermapbox": [
           {
            "marker": {
             "colorbar": {
              "outlinewidth": 0,
              "ticks": ""
             }
            },
            "type": "scattermapbox"
           }
          ],
          "scatterpolar": [
           {
            "marker": {
             "colorbar": {
              "outlinewidth": 0,
              "ticks": ""
             }
            },
            "type": "scatterpolar"
           }
          ],
          "scatterpolargl": [
           {
            "marker": {
             "colorbar": {
              "outlinewidth": 0,
              "ticks": ""
             }
            },
            "type": "scatterpolargl"
           }
          ],
          "scatterternary": [
           {
            "marker": {
             "colorbar": {
              "outlinewidth": 0,
              "ticks": ""
             }
            },
            "type": "scatterternary"
           }
          ],
          "surface": [
           {
            "colorbar": {
             "outlinewidth": 0,
             "ticks": ""
            },
            "colorscale": [
             [
              0,
              "#0d0887"
             ],
             [
              0.1111111111111111,
              "#46039f"
             ],
             [
              0.2222222222222222,
              "#7201a8"
             ],
             [
              0.3333333333333333,
              "#9c179e"
             ],
             [
              0.4444444444444444,
              "#bd3786"
             ],
             [
              0.5555555555555556,
              "#d8576b"
             ],
             [
              0.6666666666666666,
              "#ed7953"
             ],
             [
              0.7777777777777778,
              "#fb9f3a"
             ],
             [
              0.8888888888888888,
              "#fdca26"
             ],
             [
              1,
              "#f0f921"
             ]
            ],
            "type": "surface"
           }
          ],
          "table": [
           {
            "cells": {
             "fill": {
              "color": "#EBF0F8"
             },
             "line": {
              "color": "white"
             }
            },
            "header": {
             "fill": {
              "color": "#C8D4E3"
             },
             "line": {
              "color": "white"
             }
            },
            "type": "table"
           }
          ]
         },
         "layout": {
          "annotationdefaults": {
           "arrowcolor": "#2a3f5f",
           "arrowhead": 0,
           "arrowwidth": 1
          },
          "autotypenumbers": "strict",
          "coloraxis": {
           "colorbar": {
            "outlinewidth": 0,
            "ticks": ""
           }
          },
          "colorscale": {
           "diverging": [
            [
             0,
             "#8e0152"
            ],
            [
             0.1,
             "#c51b7d"
            ],
            [
             0.2,
             "#de77ae"
            ],
            [
             0.3,
             "#f1b6da"
            ],
            [
             0.4,
             "#fde0ef"
            ],
            [
             0.5,
             "#f7f7f7"
            ],
            [
             0.6,
             "#e6f5d0"
            ],
            [
             0.7,
             "#b8e186"
            ],
            [
             0.8,
             "#7fbc41"
            ],
            [
             0.9,
             "#4d9221"
            ],
            [
             1,
             "#276419"
            ]
           ],
           "sequential": [
            [
             0,
             "#0d0887"
            ],
            [
             0.1111111111111111,
             "#46039f"
            ],
            [
             0.2222222222222222,
             "#7201a8"
            ],
            [
             0.3333333333333333,
             "#9c179e"
            ],
            [
             0.4444444444444444,
             "#bd3786"
            ],
            [
             0.5555555555555556,
             "#d8576b"
            ],
            [
             0.6666666666666666,
             "#ed7953"
            ],
            [
             0.7777777777777778,
             "#fb9f3a"
            ],
            [
             0.8888888888888888,
             "#fdca26"
            ],
            [
             1,
             "#f0f921"
            ]
           ],
           "sequentialminus": [
            [
             0,
             "#0d0887"
            ],
            [
             0.1111111111111111,
             "#46039f"
            ],
            [
             0.2222222222222222,
             "#7201a8"
            ],
            [
             0.3333333333333333,
             "#9c179e"
            ],
            [
             0.4444444444444444,
             "#bd3786"
            ],
            [
             0.5555555555555556,
             "#d8576b"
            ],
            [
             0.6666666666666666,
             "#ed7953"
            ],
            [
             0.7777777777777778,
             "#fb9f3a"
            ],
            [
             0.8888888888888888,
             "#fdca26"
            ],
            [
             1,
             "#f0f921"
            ]
           ]
          },
          "colorway": [
           "#636efa",
           "#EF553B",
           "#00cc96",
           "#ab63fa",
           "#FFA15A",
           "#19d3f3",
           "#FF6692",
           "#B6E880",
           "#FF97FF",
           "#FECB52"
          ],
          "font": {
           "color": "#2a3f5f"
          },
          "geo": {
           "bgcolor": "white",
           "lakecolor": "white",
           "landcolor": "#E5ECF6",
           "showlakes": true,
           "showland": true,
           "subunitcolor": "white"
          },
          "hoverlabel": {
           "align": "left"
          },
          "hovermode": "closest",
          "mapbox": {
           "style": "light"
          },
          "paper_bgcolor": "white",
          "plot_bgcolor": "#E5ECF6",
          "polar": {
           "angularaxis": {
            "gridcolor": "white",
            "linecolor": "white",
            "ticks": ""
           },
           "bgcolor": "#E5ECF6",
           "radialaxis": {
            "gridcolor": "white",
            "linecolor": "white",
            "ticks": ""
           }
          },
          "scene": {
           "xaxis": {
            "backgroundcolor": "#E5ECF6",
            "gridcolor": "white",
            "gridwidth": 2,
            "linecolor": "white",
            "showbackground": true,
            "ticks": "",
            "zerolinecolor": "white"
           },
           "yaxis": {
            "backgroundcolor": "#E5ECF6",
            "gridcolor": "white",
            "gridwidth": 2,
            "linecolor": "white",
            "showbackground": true,
            "ticks": "",
            "zerolinecolor": "white"
           },
           "zaxis": {
            "backgroundcolor": "#E5ECF6",
            "gridcolor": "white",
            "gridwidth": 2,
            "linecolor": "white",
            "showbackground": true,
            "ticks": "",
            "zerolinecolor": "white"
           }
          },
          "shapedefaults": {
           "line": {
            "color": "#2a3f5f"
           }
          },
          "ternary": {
           "aaxis": {
            "gridcolor": "white",
            "linecolor": "white",
            "ticks": ""
           },
           "baxis": {
            "gridcolor": "white",
            "linecolor": "white",
            "ticks": ""
           },
           "bgcolor": "#E5ECF6",
           "caxis": {
            "gridcolor": "white",
            "linecolor": "white",
            "ticks": ""
           }
          },
          "title": {
           "x": 0.05
          },
          "xaxis": {
           "automargin": true,
           "gridcolor": "white",
           "linecolor": "white",
           "ticks": "",
           "title": {
            "standoff": 15
           },
           "zerolinecolor": "white",
           "zerolinewidth": 2
          },
          "yaxis": {
           "automargin": true,
           "gridcolor": "white",
           "linecolor": "white",
           "ticks": "",
           "title": {
            "standoff": 15
           },
           "zerolinecolor": "white",
           "zerolinewidth": 2
          }
         }
        }
       }
      },
      "text/html": [
       "<div>                            <div id=\"922ee9fb-3ebd-4616-9e5f-65f0389404c6\" class=\"plotly-graph-div\" style=\"height:525px; width:100%;\"></div>            <script type=\"text/javascript\">                require([\"plotly\"], function(Plotly) {                    window.PLOTLYENV=window.PLOTLYENV || {};                                    if (document.getElementById(\"922ee9fb-3ebd-4616-9e5f-65f0389404c6\")) {                    Plotly.newPlot(                        \"922ee9fb-3ebd-4616-9e5f-65f0389404c6\",                        [{\"orientation\":\"h\",\"x\":[1376,337,637,832],\"y\":[\"summer\",\"winter\",\"spring\",\"autumn\"],\"type\":\"bar\"}],                        {\"template\":{\"data\":{\"histogram2dcontour\":[{\"type\":\"histogram2dcontour\",\"colorbar\":{\"outlinewidth\":0,\"ticks\":\"\"},\"colorscale\":[[0.0,\"#0d0887\"],[0.1111111111111111,\"#46039f\"],[0.2222222222222222,\"#7201a8\"],[0.3333333333333333,\"#9c179e\"],[0.4444444444444444,\"#bd3786\"],[0.5555555555555556,\"#d8576b\"],[0.6666666666666666,\"#ed7953\"],[0.7777777777777778,\"#fb9f3a\"],[0.8888888888888888,\"#fdca26\"],[1.0,\"#f0f921\"]]}],\"choropleth\":[{\"type\":\"choropleth\",\"colorbar\":{\"outlinewidth\":0,\"ticks\":\"\"}}],\"histogram2d\":[{\"type\":\"histogram2d\",\"colorbar\":{\"outlinewidth\":0,\"ticks\":\"\"},\"colorscale\":[[0.0,\"#0d0887\"],[0.1111111111111111,\"#46039f\"],[0.2222222222222222,\"#7201a8\"],[0.3333333333333333,\"#9c179e\"],[0.4444444444444444,\"#bd3786\"],[0.5555555555555556,\"#d8576b\"],[0.6666666666666666,\"#ed7953\"],[0.7777777777777778,\"#fb9f3a\"],[0.8888888888888888,\"#fdca26\"],[1.0,\"#f0f921\"]]}],\"heatmap\":[{\"type\":\"heatmap\",\"colorbar\":{\"outlinewidth\":0,\"ticks\":\"\"},\"colorscale\":[[0.0,\"#0d0887\"],[0.1111111111111111,\"#46039f\"],[0.2222222222222222,\"#7201a8\"],[0.3333333333333333,\"#9c179e\"],[0.4444444444444444,\"#bd3786\"],[0.5555555555555556,\"#d8576b\"],[0.6666666666666666,\"#ed7953\"],[0.7777777777777778,\"#fb9f3a\"],[0.8888888888888888,\"#fdca26\"],[1.0,\"#f0f921\"]]}],\"heatmapgl\":[{\"type\":\"heatmapgl\",\"colorbar\":{\"outlinewidth\":0,\"ticks\":\"\"},\"colorscale\":[[0.0,\"#0d0887\"],[0.1111111111111111,\"#46039f\"],[0.2222222222222222,\"#7201a8\"],[0.3333333333333333,\"#9c179e\"],[0.4444444444444444,\"#bd3786\"],[0.5555555555555556,\"#d8576b\"],[0.6666666666666666,\"#ed7953\"],[0.7777777777777778,\"#fb9f3a\"],[0.8888888888888888,\"#fdca26\"],[1.0,\"#f0f921\"]]}],\"contourcarpet\":[{\"type\":\"contourcarpet\",\"colorbar\":{\"outlinewidth\":0,\"ticks\":\"\"}}],\"contour\":[{\"type\":\"contour\",\"colorbar\":{\"outlinewidth\":0,\"ticks\":\"\"},\"colorscale\":[[0.0,\"#0d0887\"],[0.1111111111111111,\"#46039f\"],[0.2222222222222222,\"#7201a8\"],[0.3333333333333333,\"#9c179e\"],[0.4444444444444444,\"#bd3786\"],[0.5555555555555556,\"#d8576b\"],[0.6666666666666666,\"#ed7953\"],[0.7777777777777778,\"#fb9f3a\"],[0.8888888888888888,\"#fdca26\"],[1.0,\"#f0f921\"]]}],\"surface\":[{\"type\":\"surface\",\"colorbar\":{\"outlinewidth\":0,\"ticks\":\"\"},\"colorscale\":[[0.0,\"#0d0887\"],[0.1111111111111111,\"#46039f\"],[0.2222222222222222,\"#7201a8\"],[0.3333333333333333,\"#9c179e\"],[0.4444444444444444,\"#bd3786\"],[0.5555555555555556,\"#d8576b\"],[0.6666666666666666,\"#ed7953\"],[0.7777777777777778,\"#fb9f3a\"],[0.8888888888888888,\"#fdca26\"],[1.0,\"#f0f921\"]]}],\"mesh3d\":[{\"type\":\"mesh3d\",\"colorbar\":{\"outlinewidth\":0,\"ticks\":\"\"}}],\"scatter\":[{\"fillpattern\":{\"fillmode\":\"overlay\",\"size\":10,\"solidity\":0.2},\"type\":\"scatter\"}],\"parcoords\":[{\"type\":\"parcoords\",\"line\":{\"colorbar\":{\"outlinewidth\":0,\"ticks\":\"\"}}}],\"scatterpolargl\":[{\"type\":\"scatterpolargl\",\"marker\":{\"colorbar\":{\"outlinewidth\":0,\"ticks\":\"\"}}}],\"bar\":[{\"error_x\":{\"color\":\"#2a3f5f\"},\"error_y\":{\"color\":\"#2a3f5f\"},\"marker\":{\"line\":{\"color\":\"#E5ECF6\",\"width\":0.5},\"pattern\":{\"fillmode\":\"overlay\",\"size\":10,\"solidity\":0.2}},\"type\":\"bar\"}],\"scattergeo\":[{\"type\":\"scattergeo\",\"marker\":{\"colorbar\":{\"outlinewidth\":0,\"ticks\":\"\"}}}],\"scatterpolar\":[{\"type\":\"scatterpolar\",\"marker\":{\"colorbar\":{\"outlinewidth\":0,\"ticks\":\"\"}}}],\"histogram\":[{\"marker\":{\"pattern\":{\"fillmode\":\"overlay\",\"size\":10,\"solidity\":0.2}},\"type\":\"histogram\"}],\"scattergl\":[{\"type\":\"scattergl\",\"marker\":{\"colorbar\":{\"outlinewidth\":0,\"ticks\":\"\"}}}],\"scatter3d\":[{\"type\":\"scatter3d\",\"line\":{\"colorbar\":{\"outlinewidth\":0,\"ticks\":\"\"}},\"marker\":{\"colorbar\":{\"outlinewidth\":0,\"ticks\":\"\"}}}],\"scattermapbox\":[{\"type\":\"scattermapbox\",\"marker\":{\"colorbar\":{\"outlinewidth\":0,\"ticks\":\"\"}}}],\"scatterternary\":[{\"type\":\"scatterternary\",\"marker\":{\"colorbar\":{\"outlinewidth\":0,\"ticks\":\"\"}}}],\"scattercarpet\":[{\"type\":\"scattercarpet\",\"marker\":{\"colorbar\":{\"outlinewidth\":0,\"ticks\":\"\"}}}],\"carpet\":[{\"aaxis\":{\"endlinecolor\":\"#2a3f5f\",\"gridcolor\":\"white\",\"linecolor\":\"white\",\"minorgridcolor\":\"white\",\"startlinecolor\":\"#2a3f5f\"},\"baxis\":{\"endlinecolor\":\"#2a3f5f\",\"gridcolor\":\"white\",\"linecolor\":\"white\",\"minorgridcolor\":\"white\",\"startlinecolor\":\"#2a3f5f\"},\"type\":\"carpet\"}],\"table\":[{\"cells\":{\"fill\":{\"color\":\"#EBF0F8\"},\"line\":{\"color\":\"white\"}},\"header\":{\"fill\":{\"color\":\"#C8D4E3\"},\"line\":{\"color\":\"white\"}},\"type\":\"table\"}],\"barpolar\":[{\"marker\":{\"line\":{\"color\":\"#E5ECF6\",\"width\":0.5},\"pattern\":{\"fillmode\":\"overlay\",\"size\":10,\"solidity\":0.2}},\"type\":\"barpolar\"}],\"pie\":[{\"automargin\":true,\"type\":\"pie\"}]},\"layout\":{\"autotypenumbers\":\"strict\",\"colorway\":[\"#636efa\",\"#EF553B\",\"#00cc96\",\"#ab63fa\",\"#FFA15A\",\"#19d3f3\",\"#FF6692\",\"#B6E880\",\"#FF97FF\",\"#FECB52\"],\"font\":{\"color\":\"#2a3f5f\"},\"hovermode\":\"closest\",\"hoverlabel\":{\"align\":\"left\"},\"paper_bgcolor\":\"white\",\"plot_bgcolor\":\"#E5ECF6\",\"polar\":{\"bgcolor\":\"#E5ECF6\",\"angularaxis\":{\"gridcolor\":\"white\",\"linecolor\":\"white\",\"ticks\":\"\"},\"radialaxis\":{\"gridcolor\":\"white\",\"linecolor\":\"white\",\"ticks\":\"\"}},\"ternary\":{\"bgcolor\":\"#E5ECF6\",\"aaxis\":{\"gridcolor\":\"white\",\"linecolor\":\"white\",\"ticks\":\"\"},\"baxis\":{\"gridcolor\":\"white\",\"linecolor\":\"white\",\"ticks\":\"\"},\"caxis\":{\"gridcolor\":\"white\",\"linecolor\":\"white\",\"ticks\":\"\"}},\"coloraxis\":{\"colorbar\":{\"outlinewidth\":0,\"ticks\":\"\"}},\"colorscale\":{\"sequential\":[[0.0,\"#0d0887\"],[0.1111111111111111,\"#46039f\"],[0.2222222222222222,\"#7201a8\"],[0.3333333333333333,\"#9c179e\"],[0.4444444444444444,\"#bd3786\"],[0.5555555555555556,\"#d8576b\"],[0.6666666666666666,\"#ed7953\"],[0.7777777777777778,\"#fb9f3a\"],[0.8888888888888888,\"#fdca26\"],[1.0,\"#f0f921\"]],\"sequentialminus\":[[0.0,\"#0d0887\"],[0.1111111111111111,\"#46039f\"],[0.2222222222222222,\"#7201a8\"],[0.3333333333333333,\"#9c179e\"],[0.4444444444444444,\"#bd3786\"],[0.5555555555555556,\"#d8576b\"],[0.6666666666666666,\"#ed7953\"],[0.7777777777777778,\"#fb9f3a\"],[0.8888888888888888,\"#fdca26\"],[1.0,\"#f0f921\"]],\"diverging\":[[0,\"#8e0152\"],[0.1,\"#c51b7d\"],[0.2,\"#de77ae\"],[0.3,\"#f1b6da\"],[0.4,\"#fde0ef\"],[0.5,\"#f7f7f7\"],[0.6,\"#e6f5d0\"],[0.7,\"#b8e186\"],[0.8,\"#7fbc41\"],[0.9,\"#4d9221\"],[1,\"#276419\"]]},\"xaxis\":{\"gridcolor\":\"white\",\"linecolor\":\"white\",\"ticks\":\"\",\"title\":{\"standoff\":15},\"zerolinecolor\":\"white\",\"automargin\":true,\"zerolinewidth\":2},\"yaxis\":{\"gridcolor\":\"white\",\"linecolor\":\"white\",\"ticks\":\"\",\"title\":{\"standoff\":15},\"zerolinecolor\":\"white\",\"automargin\":true,\"zerolinewidth\":2},\"scene\":{\"xaxis\":{\"backgroundcolor\":\"#E5ECF6\",\"gridcolor\":\"white\",\"linecolor\":\"white\",\"showbackground\":true,\"ticks\":\"\",\"zerolinecolor\":\"white\",\"gridwidth\":2},\"yaxis\":{\"backgroundcolor\":\"#E5ECF6\",\"gridcolor\":\"white\",\"linecolor\":\"white\",\"showbackground\":true,\"ticks\":\"\",\"zerolinecolor\":\"white\",\"gridwidth\":2},\"zaxis\":{\"backgroundcolor\":\"#E5ECF6\",\"gridcolor\":\"white\",\"linecolor\":\"white\",\"showbackground\":true,\"ticks\":\"\",\"zerolinecolor\":\"white\",\"gridwidth\":2}},\"shapedefaults\":{\"line\":{\"color\":\"#2a3f5f\"}},\"annotationdefaults\":{\"arrowcolor\":\"#2a3f5f\",\"arrowhead\":0,\"arrowwidth\":1},\"geo\":{\"bgcolor\":\"white\",\"landcolor\":\"#E5ECF6\",\"subunitcolor\":\"white\",\"showland\":true,\"showlakes\":true,\"lakecolor\":\"white\"},\"title\":{\"x\":0.05},\"mapbox\":{\"style\":\"light\"}}}},                        {\"responsive\": true}                    ).then(function(){\n",
       "                            \n",
       "var gd = document.getElementById('922ee9fb-3ebd-4616-9e5f-65f0389404c6');\n",
       "var x = new MutationObserver(function (mutations, observer) {{\n",
       "        var display = window.getComputedStyle(gd).display;\n",
       "        if (!display || display === 'none') {{\n",
       "            console.log([gd, 'removed!']);\n",
       "            Plotly.purge(gd);\n",
       "            observer.disconnect();\n",
       "        }}\n",
       "}});\n",
       "\n",
       "// Listen for the removal of the full notebook cells\n",
       "var notebookContainer = gd.closest('#notebook-container');\n",
       "if (notebookContainer) {{\n",
       "    x.observe(notebookContainer, {childList: true});\n",
       "}}\n",
       "\n",
       "// Listen for the clearing of the current output cell\n",
       "var outputEl = gd.closest('.output');\n",
       "if (outputEl) {{\n",
       "    x.observe(outputEl, {childList: true});\n",
       "}}\n",
       "\n",
       "                        })                };                });            </script>        </div>"
      ]
     },
     "metadata": {},
     "output_type": "display_data"
    }
   ],
   "source": [
    "#Are most attacks during summer?\n",
    "fig=go.Figure(go.Bar(x=x_axis,y=y_axis,orientation='h'))\n",
    "fig.show()"
   ]
  },
  {
   "cell_type": "code",
   "execution_count": 96,
   "id": "908b797a",
   "metadata": {},
   "outputs": [
    {
     "data": {
      "image/png": "[encoded data removed]",
      "text/plain": [
       "<Figure size 864x576 with 1 Axes>"
      ]
     },
     "metadata": {},
     "output_type": "display_data"
    }
   ],
   "source": [
    "#Are most attacks during summer comparing hemispheres?\n",
    "fig, ax = plt.subplots(figsize=(12, 8))\n",
    "sns.countplot(ax=ax,data=attacks.loc[attacks['hemisphere']!=''], x=\"hemisphere\", hue=\"season_hemisphere\")\n",
    "fig.savefig('/Users/Juliana/Desktop/Ironhack/Projects/Ironhack-Project/figures/Attacks_per_hemisphere_season.png')"
   ]
  },
  {
   "cell_type": "code",
   "execution_count": 99,
   "id": "1bfc6598",
   "metadata": {},
   "outputs": [],
   "source": [
    "#save dataset updated\n",
    "attacks.to_csv('/Users/Juliana/Desktop/Ironhack/Projects/Ironhack-Project/output/attacks_updated.csv',index=False)"
   ]
  },
  {
   "cell_type": "code",
   "execution_count": null,
   "id": "f5823943",
   "metadata": {},
   "outputs": [],
   "source": []
  }
 ],
 "metadata": {
  "kernelspec": {
   "display_name": "Python 3 (ipykernel)",
   "language": "python",
   "name": "python3"
  },
  "language_info": {
   "codemirror_mode": {
    "name": "ipython",
    "version": 3
   },
   "file_extension": ".py",
   "mimetype": "text/x-python",
   "name": "python",
   "nbconvert_exporter": "python",
   "pygments_lexer": "ipython3",
   "version": "3.8.13"
  }
 },
 "nbformat": 4,
 "nbformat_minor": 5
}
